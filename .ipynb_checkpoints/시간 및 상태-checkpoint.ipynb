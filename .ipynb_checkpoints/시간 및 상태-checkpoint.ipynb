{
 "cells": [
  {
   "cell_type": "markdown",
   "metadata": {},
   "source": [
    "##### 경쟁조건: 검사시점과 사용시점(TOCTOU) (p.106)"
   ]
  },
  {
   "cell_type": "code",
   "execution_count": null,
   "metadata": {},
   "outputs": [],
   "source": [
    "import io\n",
    "import datetime\n",
    "import threading\n",
    "\n",
    "def write_shared_file(filename, content):\n",
    "    # 멀티스레드 환경에서는 다른 사용자들의 작업에 따라 파일이 사라질\n",
    "    # 수 있기 때문에 공유 자원에 대해서는 검사와 사용을 동시에 해야 한다.\n",
    "    if os.path.isfile(filename) is True: ## !\n",
    "        f = open(filename, 'w')\n",
    "        f.seek(0, io.SEEK_END)\n",
    "        f.write(content)\n",
    "        f.close()\n",
    "        \n",
    "def start():\n",
    "    filename = ‘./temp.txt’\n",
    "    content = ‘start time is ’ + datetime.datetime.now()\n",
    "    my_thread = threading.Thread(target=write_shared_file, args=(filename, content))\n",
    "    my_thread.start()"
   ]
  },
  {
   "cell_type": "markdown",
   "metadata": {},
   "source": [
    "##### 종료되지 않는 반복문 또는 재귀 함수 (p.108)"
   ]
  },
  {
   "cell_type": "code",
   "execution_count": null,
   "metadata": {},
   "outputs": [],
   "source": [
    "def factorial(num):\n",
    "    # 재귀함수 탈출조건을 설정하지 않아 동작 중 에러 발생 ## !\n",
    "    return num * factorial(num – 1)\n",
    "\n",
    "if __name__ == '__main__':\n",
    "    itr = 5\n",
    "    result = factorial(itr)\n",
    "    print(str(itr) + ' 팩토리얼 값은 : ' + str(result))"
   ]
  }
 ],
 "metadata": {
  "kernelspec": {
   "display_name": "Python 3 (ipykernel)",
   "language": "python",
   "name": "python3"
  },
  "language_info": {
   "codemirror_mode": {
    "name": "ipython",
    "version": 3
   },
   "file_extension": ".py",
   "mimetype": "text/x-python",
   "name": "python",
   "nbconvert_exporter": "python",
   "pygments_lexer": "ipython3",
   "version": "3.9.12"
  },
  "vscode": {
   "interpreter": {
    "hash": "26de051ba29f2982a8de78e945f0abaf191376122a1563185a90213a26c5da77"
   }
  }
 },
 "nbformat": 4,
 "nbformat_minor": 2
}
