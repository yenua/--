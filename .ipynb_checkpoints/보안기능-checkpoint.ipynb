{
 "cells": [
  {
   "cell_type": "markdown",
   "metadata": {},
   "source": [
    "##### 적절한 인증 없는 중요 기능 허용 (p.68)"
   ]
  },
  {
   "cell_type": "code",
   "execution_count": null,
   "metadata": {},
   "outputs": [],
   "source": [
    "from django.shortcuts import render\n",
    "from re import escape\n",
    "import hashlib\n",
    "\n",
    "def change_password(request):\n",
    "    new_pwd = request.POST.get('new_password','')\n",
    "    \n",
    "    #로그인한 사용자정보\n",
    "    user = '%s' % escape(request.session['userid']) ## !\n",
    "    \n",
    "    #현재 password와 일치여부를 확인하지 않고 수정함\n",
    "    sha = hashlib.sha256(new_pwd.encode())\n",
    "    update_password_from_db(user, sha.hexdigest()) ## !\n",
    "    \n",
    "    return render(request, '/success.html')"
   ]
  },
  {
   "cell_type": "markdown",
   "metadata": {},
   "source": [
    "##### 부적절한 인가 (p.70)"
   ]
  },
  {
   "cell_type": "code",
   "execution_count": null,
   "metadata": {},
   "outputs": [],
   "source": [
    "from django.shortcuts import render\n",
    "from .model import Content\n",
    "\n",
    "def delete_content(request):\n",
    "    action = request.POST.get('action', '') ## !\n",
    "    content_id = request.POST.get('content_id', '')\n",
    "    #작업 요청을 하는 사용자의 권한 확인 없이 delete를 수행\n",
    "    if action is not None and action == \"delete\": ## !\n",
    "        Content.objects.filter(id=content_id).delete() ## !\n",
    "        return render(request, '/success.html')\n",
    "    else:\n",
    "        return render(request, '/error.html', {'error':'접근 권한이 없습니다.'})"
   ]
  },
  {
   "cell_type": "markdown",
   "metadata": {},
   "source": [
    "##### 중요한 자원에 대한 잘못된 권한 설정 (p.72)"
   ]
  },
  {
   "cell_type": "code",
   "execution_count": null,
   "metadata": {},
   "outputs": [],
   "source": [
    "def write_file():\n",
    "    #모든 사용자가 읽기, 쓰기, 실행 권한을 가지게 됨.\n",
    "    os.chmod('/root/system_config', 0o777) ## !\n",
    "    \n",
    "    with open(\"/root/system_config\", 'w') as f:\n",
    "        f.write(\"your config is broken\")"
   ]
  },
  {
   "cell_type": "markdown",
   "metadata": {},
   "source": [
    "##### 취약한 암호화 알고리즘 사용 (p.76)"
   ]
  },
  {
   "cell_type": "markdown",
   "metadata": {},
   "source": [
    "1) DES 알고리즘 "
   ]
  },
  {
   "cell_type": "code",
   "execution_count": null,
   "metadata": {},
   "outputs": [],
   "source": [
    "import base64\n",
    "from Crypto.Cipher import DES\n",
    "\n",
    "def get_enc_text(plain_text, key):\n",
    "    # 취약함 암호와 알고리즘인 DES를 사용하여 안전하지 않음\n",
    "    cipher_des = DES.new(key, DES.MODE_ECB) ## !\n",
    "    encrypted_data = base64.b64encode(cipher_des.encrypt(plain_text))\n",
    "    return encrypted_data.decode('ASCII')"
   ]
  },
  {
   "cell_type": "markdown",
   "metadata": {},
   "source": [
    "1) MD5 알고리즘 "
   ]
  },
  {
   "cell_type": "code",
   "execution_count": null,
   "metadata": {},
   "outputs": [],
   "source": [
    "import hashlib\n",
    "\n",
    "def make_md5(plain_text):\n",
    "    # 취약한 md5 해쉬함수 사용\n",
    "    hash_text = hashlib.md5(plain_text.encode('utf-8')).hexdigest() ## !\n",
    "    return hash_text"
   ]
  },
  {
   "cell_type": "markdown",
   "metadata": {},
   "source": [
    "##### 암호화되지 않은 중요정보 (p.72)"
   ]
  },
  {
   "cell_type": "markdown",
   "metadata": {},
   "source": [
    "1) 중요정보 평문저장"
   ]
  },
  {
   "cell_type": "code",
   "execution_count": null,
   "metadata": {},
   "outputs": [],
   "source": [
    "def update_pass(dbconn, password, user_id): ## ! password\n",
    "    curs = dbconn.curs()\n",
    "    # 암호화되지 않은 비밀번호를 DB에 저장하는 경우\n",
    "    curs.execute('UPDATE USERS SET PASSWORD=%s WHERE USER_ID=%s', password, user_id) ## ! password"
   ]
  },
  {
   "cell_type": "markdown",
   "metadata": {},
   "source": [
    "2) 중요정보 평문전송"
   ]
  },
  {
   "cell_type": "code",
   "execution_count": null,
   "metadata": {},
   "outputs": [],
   "source": [
    "import socket\n",
    "\n",
    "HOST = '127.0.0.1'\n",
    "PORT = 65434\n",
    "\n",
    "def send_password(password):\n",
    "    ......\n",
    "    with socket.socket(socket.AF_INET, socket.SOCK_STREAM) as s:\n",
    "        s.connect((HOST, PORT))\n",
    "        # 패스워드를 암호화 하지 않고 전송하여 안전하지 않다.\n",
    "        s.sendall(password.encode('utf-8')) ## !\n",
    "        data = s.recv(1024)\n",
    "        ......."
   ]
  },
  {
   "cell_type": "markdown",
   "metadata": {},
   "source": [
    "##### 하드코드된 중요정보 (p.81)"
   ]
  },
  {
   "cell_type": "code",
   "execution_count": null,
   "metadata": {},
   "outputs": [],
   "source": [
    "import pymysql\n",
    "\n",
    "def query_execute(query):\n",
    "    # usre, passwd가 소스코드에 평문으로 하드코딩되어 있음\n",
    "    dbconn = pymysql.connect(host='127.0.0.1', port='1234', user='root', passwd='1234',\n",
    "    db='mydb', charset='utf8') ## !\n",
    "    curs = dbconn.cursor()\n",
    "    curs.execute(query)\n",
    "    dbconn.commit()\n",
    "    dbconn.close()"
   ]
  },
  {
   "cell_type": "markdown",
   "metadata": {},
   "source": [
    "##### 충분하지 않은 키 길이 사용 (p.84)"
   ]
  },
  {
   "cell_type": "code",
   "execution_count": null,
   "metadata": {},
   "outputs": [],
   "source": [
    "from Crypto.PublicKey import RSA, DSA, ECC\n",
    "from tinyec import registry\n",
    "import secrets\n",
    "\n",
    "def make_rsa_key_pair():\n",
    "    # RSA키 길이를 1024 비트로 설정하는 경우 안전하지 않음\n",
    "    private_key = RSA.generate(1024) ## ! 1024\n",
    "    public_key = private_key.publickey()\n",
    "\n",
    "def make_ecc():\n",
    "    # 2015년부터 ECC 키 길이를 256 비트 이상으로 제안하고 있음.\n",
    "    ecc_curve = registry.get_curve('secp192r1') ## !\n",
    "    private_key = secrets.randbelow(ecc_curve.field.n)\n",
    "    public_key = private_key * ecc_curve.g"
   ]
  },
  {
   "cell_type": "markdown",
   "metadata": {},
   "source": [
    "##### 적절하지 않은 난수 값 사용 (p.87)"
   ]
  },
  {
   "cell_type": "code",
   "execution_count": null,
   "metadata": {},
   "outputs": [],
   "source": [
    "import random\n",
    "\n",
    "def get_otp_number():\n",
    "    random_str = ''\n",
    "    # 시스템 현재 시간 값을 시드로 사용, 보안결정을 위한\n",
    "    # 난수로는 안전하지 않다.\n",
    "    for i in range(6):\n",
    "        random_str += str(random.randrange(10)) ## !\n",
    "    return random_str"
   ]
  },
  {
   "cell_type": "code",
   "execution_count": null,
   "metadata": {},
   "outputs": [],
   "source": [
    "import random ## !\n",
    "import string\n",
    "\n",
    "def generate_session_key():\n",
    "    RANDOM_STRING_CHARS = string.ascii_letters+string.digits\n",
    "    # random 라이브러리는 보안기능(세션)에 사용하면 위험하다\n",
    "    return “”.join(random.choice(RANDOM_STRING_CHARS) for i in range(32))"
   ]
  },
  {
   "cell_type": "markdown",
   "metadata": {},
   "source": [
    "##### 취약한 비밀번호 허용 (p.89)"
   ]
  },
  {
   "cell_type": "code",
   "execution_count": null,
   "metadata": {},
   "outputs": [],
   "source": [
    "from flask import request, redirect\n",
    "from Models import User\n",
    "from Models import db\n",
    "\n",
    "@app.route('/register', methods=['POST'])\n",
    "def register():\n",
    "    userid = request.form.get('userid')\n",
    "    password = request.form.get('password')\n",
    "    confirm_password = request.form.get('confirm_password')\n",
    "    \n",
    "    if password != confirm_password:\n",
    "        return make_response(\"비밀번호가 일치하지 않습니다\", 200)\n",
    "    else:\n",
    "        usertable=User()\n",
    "        usertable.userid = userid\n",
    "        usertable.password = password ## !\n",
    "        # 패스워드 생성 규칙을 확인하지 않고 회원 가입\n",
    "        db.session.add(usertable) ## !\n",
    "        db.session.commit()\n",
    "        return make_response(\"회원가입 성공\", 200)"
   ]
  },
  {
   "cell_type": "markdown",
   "metadata": {},
   "source": [
    "Django 프레임워크의 VALIDATORS 사용"
   ]
  },
  {
   "cell_type": "code",
   "execution_count": null,
   "metadata": {},
   "outputs": [],
   "source": [
    "import re\n",
    "from django.core.exceptions import ValidationError\n",
    "from django.utils.translation import ugettext as _\n",
    "\n",
    "class CustomValidator(object):\n",
    "    def validate(self, password, user=None):\n",
    "        # 2종 이상 문자로 구성된 8자리 이상 비밀번호 검사 정규식\n",
    "        PT1 = re.compile('^(?=.*[A-Z])(?=.*[a-z])[A-Za-z\\d!@#$%^&*]{8,}$')\n",
    "        PT2 = re.compile('^(?=.*[A-Z])(?=.*\\d)[A-Za-z\\d$@$!%*?&]{8,}$')\n",
    "        PT3 = re.compile('^(?=.*[A-Z])(?=.*[!@#$%^&*])[A-Za-z\\d!@#$%^&*]{8,}$')\n",
    "        PT4 = re.compile('^(?=.*[a-z])(?=.*\\d)[A-Za-z\\d!@#$%^&*]{8,}$')\n",
    "        PT5 = re.compile('^(?=.*[a-z])(?=.*[!@#$%^&*])[A-Za-z\\d!@#$%^&*]{8,}$')\n",
    "        PT6 = re.compile('^(?=.*\\d)(?=.*[!@#$%^&*])[A-Za-z\\d!@#$%^&*]{8,}$')\n",
    "        \n",
    "        # 문자 구성 상관없이 10자리 이상 비밀번호 검사 정규식\n",
    "        PT7 = re.compile('^[A-Za-z\\d!@#$%^&*]{10,}$')\n",
    "        for pattern in [PT1, PT2, PT3, PT4, PT5, PT6, PT7]:\n",
    "            if pattern.match(password):\n",
    "                return None\n",
    "        raise ValidationError(\n",
    "                _(\"비밀번호 조합규칙에 적합하지 않습니다..\"),\n",
    "                code='improper_password',\n",
    "                )\n",
    "    def get_help_text(self):\n",
    "        return _(\n",
    "        \"비밀번호는 영문 대문자, 소문자, 숫자, 특수문자 조합 중 2가지 이상 8자리이거나 문자 구성 상\n",
    "        관없이 10자리 이상이어야 합니다.\"\n",
    "        )"
   ]
  },
  {
   "cell_type": "markdown",
   "metadata": {},
   "source": [
    "##### 사용자 하드디스크에 저장되는 쿠키를 통한 정보 노출 (p.93)"
   ]
  },
  {
   "cell_type": "code",
   "execution_count": null,
   "metadata": {},
   "outputs": [],
   "source": [
    "from django.http import HttpResponse\n",
    "\n",
    "def remind_user_state(request):\n",
    "    res = HttpResponse()\n",
    "    # 쿠키의 만료시간을 1년으로 과도하게 길게 설정하고 있어 안전하지 않다.\n",
    "    res.set_cookie('rememberme', 1, max_age=60*60*24*365) ## !\n",
    "    return res"
   ]
  },
  {
   "cell_type": "markdown",
   "metadata": {},
   "source": [
    "##### 주석문 안에 포함된 시스템 주요정보 (p.95)"
   ]
  },
  {
   "cell_type": "code",
   "execution_count": null,
   "metadata": {},
   "outputs": [],
   "source": [
    "def user_login(id, passwd):\n",
    "    # 주석문에 포함된 중요 시스템의 인증 정보\n",
    "    # id = admin ## !\n",
    "    # passwd = passw0rd ## !\n",
    "    result = login(id, passwd)\n",
    "    return result"
   ]
  },
  {
   "cell_type": "markdown",
   "metadata": {},
   "source": [
    "##### 솔트 없이 일방향 해쉬 함수 사용 (p.97)"
   ]
  },
  {
   "cell_type": "code",
   "execution_count": null,
   "metadata": {},
   "outputs": [],
   "source": [
    "import hashlib\n",
    "\n",
    "def get_hash_from_pwd(pw):\n",
    "    # salt가 없이 생성된 해시값은 강도가 약하기 때문에 반드시 salt와 함께\n",
    "    # 생성해야 한다.\n",
    "    h = hashlib.sha256(pw.encode()) ## !\n",
    "    \n",
    "    return h.digest()"
   ]
  },
  {
   "cell_type": "markdown",
   "metadata": {},
   "source": [
    "##### 무결성 검사없는 코드 다운로드 (p.100)"
   ]
  },
  {
   "cell_type": "code",
   "execution_count": null,
   "metadata": {},
   "outputs": [],
   "source": [
    "import os\n",
    "import requests\n",
    "from urllib.parse import urlparse\n",
    "\n",
    "def execute_remote_code():\n",
    "    #신뢰되지 않는 사이트에서 코드를 다운로드\n",
    "    url = \"https://www.somewhere.com/storage/code.py\"\n",
    "    \n",
    "    # 원격 코드 다운로드\n",
    "    file = requests.get(url) ## !\n",
    "    remote_code = file.content\n",
    "    \n",
    "    file_name = 'save.py'\n",
    "    with open(file_name, 'wb') as f ## !\n",
    "        f.write(file.content) ## !\n",
    "    ......"
   ]
  },
  {
   "cell_type": "markdown",
   "metadata": {},
   "source": [
    "##### 반복된 인증시도 제한 기능 부재 (p.102)"
   ]
  },
  {
   "cell_type": "code",
   "execution_count": null,
   "metadata": {},
   "outputs": [],
   "source": [
    "import hashlib\n",
    "from django.shortcuts import render\n",
    "\n",
    "def login(request):\n",
    "    user_id = request.POST.get('user_id', '')\n",
    "    user_pw = request.POST.get('user_pw', '')\n",
    "    \n",
    "    sha = hashlib.sha256()\n",
    "    sha.update(user_pw)\n",
    "    \n",
    "    hashed_passwd = get_user_pw(user_id)\n",
    "    \n",
    "    # 인증시도에 따른 제한이 없어 반복적인 인증 시도가 가능\n",
    "    if sha.hexdigest() == hashed_passwd: ## !\n",
    "        return render(request, '/index.html', {'state':'login_success'}) ## !\n",
    "    else: ## !\n",
    "        return render(request, '/login.html', {'state':'login_failed'}) ## !"
   ]
  }
 ],
 "metadata": {
  "kernelspec": {
   "display_name": "Python 3 (ipykernel)",
   "language": "python",
   "name": "python3"
  },
  "language_info": {
   "codemirror_mode": {
    "name": "ipython",
    "version": 3
   },
   "file_extension": ".py",
   "mimetype": "text/x-python",
   "name": "python",
   "nbconvert_exporter": "python",
   "pygments_lexer": "ipython3",
   "version": "3.9.12"
  },
  "vscode": {
   "interpreter": {
    "hash": "26de051ba29f2982a8de78e945f0abaf191376122a1563185a90213a26c5da77"
   }
  }
 },
 "nbformat": 4,
 "nbformat_minor": 2
}
