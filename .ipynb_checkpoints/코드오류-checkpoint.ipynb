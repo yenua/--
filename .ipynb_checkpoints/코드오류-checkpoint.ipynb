{
 "cells": [
  {
   "cell_type": "markdown",
   "metadata": {},
   "source": [
    "##### Null Pointer 역참조 (p.120)"
   ]
  },
  {
   "cell_type": "code",
   "execution_count": null,
   "metadata": {},
   "outputs": [],
   "source": [
    "from django.shortcuts import render\n",
    "from xml.sax import make_parser, handler\n",
    "import os\n",
    "\n",
    "def parse_xml(request):\n",
    "    filename = request.POST.get('filename')\n",
    "    # filename의 None 체크를 하지 않아 에러 발생 가능\n",
    "    if (filename.count('.') > 0): ## !\n",
    "        name, ext = os.path.splitext(filename)\n",
    "    else:\n",
    "        ext = ''\n",
    "        \n",
    "    if ext == '.xml':\n",
    "        parser = make_parser()\n",
    "        ......\n",
    "        sax_handler = Handler()\n",
    "        parser.setContentHandler(sax_handler)\n",
    "        parser.parse(filename)\n",
    "        return sax_handler.root"
   ]
  },
  {
   "cell_type": "markdown",
   "metadata": {},
   "source": [
    "##### 부적절한 자원 해제 (p.123)"
   ]
  },
  {
   "cell_type": "code",
   "execution_count": null,
   "metadata": {},
   "outputs": [],
   "source": [
    "import sys\n",
    "def get_config():\n",
    "    lines = None\n",
    "    try:\n",
    "        f = open('config.cfg') ## !\n",
    "        lines = f.readlines()\n",
    "        ...\n",
    "        # try 절에서 할당한 자원이 반환(close)되기 전에\n",
    "        # 예외가 발생하면 할당된 자원이 시스템에 반환되지 않음\n",
    "        f.close() ## !\n",
    "        return lines\n",
    "    except Exception as e:\n",
    "        ...\n",
    "        return ''"
   ]
  },
  {
   "cell_type": "markdown",
   "metadata": {},
   "source": [
    "##### 신뢰할 수 없는 데이터의 역직렬화 (p.126)"
   ]
  },
  {
   "cell_type": "code",
   "execution_count": null,
   "metadata": {},
   "outputs": [],
   "source": [
    "import pickle\n",
    "from django.shortcuts import render\n",
    "\n",
    "def load_user_object(request):\n",
    "    userinfo = bytes(request.POST.get('userinfo', ''), encoding = \"utf-8\") ## !\n",
    "    # 사용자로부터 입력받은 알 수 없는 데이터를 직렬화\n",
    "    user_obj = pickle.loads(userinfo) ## !\n",
    "    return render(request, '/load_user_obj.html', {'obj':user_obj})"
   ]
  }
 ],
 "metadata": {
  "kernelspec": {
   "display_name": "Python 3 (ipykernel)",
   "language": "python",
   "name": "python3"
  },
  "language_info": {
   "codemirror_mode": {
    "name": "ipython",
    "version": 3
   },
   "file_extension": ".py",
   "mimetype": "text/x-python",
   "name": "python",
   "nbconvert_exporter": "python",
   "pygments_lexer": "ipython3",
   "version": "3.9.12"
  },
  "vscode": {
   "interpreter": {
    "hash": "26de051ba29f2982a8de78e945f0abaf191376122a1563185a90213a26c5da77"
   }
  }
 },
 "nbformat": 4,
 "nbformat_minor": 2
}
