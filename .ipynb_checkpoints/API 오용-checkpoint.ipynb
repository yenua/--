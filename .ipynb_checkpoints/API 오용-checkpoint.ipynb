{
 "cells": [
  {
   "cell_type": "markdown",
   "metadata": {},
   "source": [
    "##### DNS lookup에 의존한 보안결정 (p.139)"
   ]
  },
  {
   "cell_type": "code",
   "execution_count": null,
   "metadata": {},
   "outputs": [],
   "source": [
    "import socket\n",
    "\n",
    "def is_trust(host_domain_name):\n",
    "    trusted = False\n",
    "    trusted_host = \"trust.example.com\" ## !\n",
    "    # 공격자에 의해 실행되는 서버의 DNS가 변경될 수 있으므로\n",
    "    # 안전하지 않다\n",
    "    if trusted_host == host_name: ## !\n",
    "        trusted = True\n",
    "    return trusted"
   ]
  }
 ],
 "metadata": {
  "kernelspec": {
   "display_name": "Python 3 (ipykernel)",
   "language": "python",
   "name": "python3"
  },
  "language_info": {
   "codemirror_mode": {
    "name": "ipython",
    "version": 3
   },
   "file_extension": ".py",
   "mimetype": "text/x-python",
   "name": "python",
   "nbconvert_exporter": "python",
   "pygments_lexer": "ipython3",
   "version": "3.9.12"
  },
  "vscode": {
   "interpreter": {
    "hash": "26de051ba29f2982a8de78e945f0abaf191376122a1563185a90213a26c5da77"
   }
  }
 },
 "nbformat": 4,
 "nbformat_minor": 2
}
