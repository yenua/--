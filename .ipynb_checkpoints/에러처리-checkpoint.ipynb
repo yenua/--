{
 "cells": [
  {
   "cell_type": "markdown",
   "metadata": {},
   "source": [
    "##### 오류 메시지 정보노출 (p.111)"
   ]
  },
  {
   "cell_type": "markdown",
   "metadata": {},
   "source": [
    "1) Django DEBUG 모드"
   ]
  },
  {
   "cell_type": "code",
   "execution_count": null,
   "metadata": {},
   "outputs": [],
   "source": [
    "#config/urls.py\n",
    "# 별도 에러페이지를 선언하지 않아 django의 기본 에러페이지를 출력한다. ## !"
   ]
  },
  {
   "cell_type": "markdown",
   "metadata": {},
   "source": [
    "2) traceback 에러 스택 출력"
   ]
  },
  {
   "cell_type": "code",
   "execution_count": null,
   "metadata": {},
   "outputs": [],
   "source": [
    "import traceback\n",
    "\n",
    "def fetch_url(url, useragent, referer=None, retries=1, dimension=False):\n",
    "    ......\n",
    "    try:\n",
    "        response = requests.get(url, stream=True, timeout=5, headers={\n",
    "        'User-Agent': useragent,\n",
    "        'Referer': referer,\n",
    "        })\n",
    "        ......\n",
    "    except IOError:\n",
    "        # 에러메시지를 통해 스택정보가 노출됨.\n",
    "        traceback.print_exc() ## !\n",
    "        break"
   ]
  },
  {
   "cell_type": "markdown",
   "metadata": {},
   "source": [
    "##### 오류상황 대응 부재 (p.115)"
   ]
  },
  {
   "cell_type": "code",
   "execution_count": null,
   "metadata": {},
   "outputs": [],
   "source": [
    "import os\n",
    "import binascii\n",
    "import base64\n",
    "from Crypto.Cipher import AES\n",
    "\n",
    "static_keys=[\n",
    "    {'key' : b'\\xb9J\\xfd\\xa9\\xd2\\xefD\\x0b\\x7f\\xb2\\xbcy\\x9c\\xf7\\x9c',\n",
    "    ‘iv' : b'\\xf1BZ\\x06\\x03TP\\xd1\\x8a\\xad\"\\xdc\\xc3\\x08\\x88\\xda'},\n",
    "    {'key' : b'Z\\x01$.:\\xd4u3~\\xb6TS(\\x08\\xcc\\xfc',\n",
    "    'iv' : b'\\xa1a=:\\xba\\xfczv]\\xca\\x83\\x9485\\x14\\x17'},\n",
    "]\n",
    "def encryption(key_id, plain_text):\n",
    "    static_key = {'key':b'0000000000000000', 'iv':b'0000000000000000'}\n",
    "     \n",
    "    try:\n",
    "        static_key = static_keys[key_id]\n",
    "    except IndexError:\n",
    "        # key 선택 중 오류 발생 시 기본으로 설정된 암호화 키인\n",
    "        # ‘0000000000000000’ 으로 암호화가 수행된다.\n",
    "        pass ## !\n",
    "    cipher_aes = AES.new(static_key['key'],AES.MODE_CBC,static_key['iv'])\n",
    "    encrypted_data = base64.b64encode(cipher_aes.encrypt(plain_text))\n",
    "    return encrypted_data.decode('ASCII')"
   ]
  },
  {
   "cell_type": "markdown",
   "metadata": {},
   "source": [
    "##### 부적절한 예외 처리 (p.117)"
   ]
  },
  {
   "cell_type": "code",
   "execution_count": null,
   "metadata": {},
   "outputs": [],
   "source": [
    "import sys\n",
    "\n",
    "def get_content():\n",
    "    try:\n",
    "        f = open('myfile.txt')\n",
    "        s = f.readline()\n",
    "        i = int(s.strip())\n",
    "    # 예외처리를 세분화 할 수 있음에도 광범위하게 사용하여 예기치 않은\n",
    "    # 문제가 발생할 수 있다.\n",
    "    except: ## !\n",
    "        print(\"Unexpected error \")"
   ]
  }
 ],
 "metadata": {
  "kernelspec": {
   "display_name": "Python 3 (ipykernel)",
   "language": "python",
   "name": "python3"
  },
  "language_info": {
   "codemirror_mode": {
    "name": "ipython",
    "version": 3
   },
   "file_extension": ".py",
   "mimetype": "text/x-python",
   "name": "python",
   "nbconvert_exporter": "python",
   "pygments_lexer": "ipython3",
   "version": "3.9.12"
  },
  "vscode": {
   "interpreter": {
    "hash": "26de051ba29f2982a8de78e945f0abaf191376122a1563185a90213a26c5da77"
   }
  }
 },
 "nbformat": 4,
 "nbformat_minor": 2
}
