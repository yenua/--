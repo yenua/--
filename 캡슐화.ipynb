{
 "cells": [
  {
   "cell_type": "markdown",
   "metadata": {},
   "source": [
    "##### 잘못된 세션에 의한 데이터 정보 노출 (p.129)"
   ]
  },
  {
   "cell_type": "code",
   "execution_count": null,
   "metadata": {},
   "outputs": [],
   "source": [
    "from django.shortcuts import render\n",
    "\n",
    "class UserDescription:\n",
    "    user_name = ''\n",
    "    \n",
    "    def get_user_profile(self):\n",
    "        result = self.get_user_discription(UserDescription.user_name)\n",
    "        ......\n",
    "        return result\n",
    "\n",
    "    def show_user_profile(self, name):\n",
    "        # 클래스변수는 다른 세션과 공유되는 값이기 때문에 멀티스레드\n",
    "        # 환경에서 공유되지 말아야할 자원에 대해서 사용하는 경우\n",
    "        # 다른 세션에 의해 데이터가 노출될 수 있다.\n",
    "        UserDescription.user_name = name\n",
    "        self.user_profile = self.get_user_profile()\n",
    "        \n",
    "        return render(request, 'profile.html', {'profile':self.user_profile})"
   ]
  },
  {
   "cell_type": "markdown",
   "metadata": {},
   "source": [
    "##### 제거되지 않고 남은 디버그 코드 (p.132)"
   ]
  },
  {
   "cell_type": "markdown",
   "metadata": {},
   "source": [
    "1) Django 예제"
   ]
  },
  {
   "cell_type": "code",
   "execution_count": null,
   "metadata": {},
   "outputs": [],
   "source": [
    "from django.urls import reverse_lazy\n",
    "from django.utils.text import format_lazy\n",
    "\n",
    "DEBUG = True\n",
    "\n",
    "ROOT_URLCONF = 'test.urls'\n",
    "SITE_ID = 1\n",
    "\n",
    "DATABASES = {\n",
    "    'default': {\n",
    "        'ENGINE': 'django.db.backends.sqlite3',\n",
    "        'NAME': ':memory:',\n",
    "    }\n",
    "}"
   ]
  },
  {
   "cell_type": "markdown",
   "metadata": {},
   "source": [
    "2) Flask 예제"
   ]
  },
  {
   "cell_type": "code",
   "execution_count": null,
   "metadata": {},
   "outputs": [],
   "source": [
    "from flask import Flask\n",
    "\n",
    "app = Flask(__name__)\n",
    "app.debug = True\n",
    "\n",
    "@app.route('/')\n",
    "def hello_world():\n",
    "    return 'Hello World!'\n",
    "\n",
    "if __name__ == '__main__':\n",
    "    app.run()"
   ]
  },
  {
   "cell_type": "markdown",
   "metadata": {},
   "source": [
    "##### Public 메소드로부터 반환된 Private 배열 (p.135)"
   ]
  },
  {
   "cell_type": "code",
   "execution_count": null,
   "metadata": {},
   "outputs": [],
   "source": [
    "import copy\n",
    "class UserObj():\n",
    "    __private_variable = []\n",
    "    def __init__(self):\n",
    "        pass\n",
    "    \n",
    "    # private 배열을 리턴하는 public 메소드를 사용하는 경우 취약함\n",
    "    def get_private_member(self):\n",
    "        return self.__private_variable"
   ]
  },
  {
   "cell_type": "markdown",
   "metadata": {},
   "source": [
    "##### Private 배열에 Public 데이터 할당 (p.136)"
   ]
  },
  {
   "cell_type": "code",
   "execution_count": null,
   "metadata": {},
   "outputs": [],
   "source": [
    "import copy\n",
    "class UserObj():\n",
    "    __private_variable = []\n",
    "    def __init__(self):\n",
    "        pass\n",
    "    \n",
    "    # private 배열에 외부 값을 바로 대입하는 public 메소드를 사용하는\n",
    "    # 경우 취약함\n",
    "    def set_private_member(self, num):\n",
    "        self.__private_variable = num"
   ]
  }
 ],
 "metadata": {
  "kernelspec": {
   "display_name": "Python 3 (ipykernel)",
   "language": "python",
   "name": "python3"
  },
  "language_info": {
   "codemirror_mode": {
    "name": "ipython",
    "version": 3
   },
   "file_extension": ".py",
   "mimetype": "text/x-python",
   "name": "python",
   "nbconvert_exporter": "python",
   "pygments_lexer": "ipython3",
   "version": "3.9.12"
  },
  "vscode": {
   "interpreter": {
    "hash": "26de051ba29f2982a8de78e945f0abaf191376122a1563185a90213a26c5da77"
   }
  }
 },
 "nbformat": 4,
 "nbformat_minor": 2
}
