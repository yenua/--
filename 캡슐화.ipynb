{
 "cells": [
  {
   "cell_type": "markdown",
   "metadata": {},
   "source": [
    "##### 잘못된 세션에 의한 데이터 정보 노출 (p.129)"
   ]
  },
  {
   "cell_type": "code",
   "execution_count": null,
   "metadata": {},
   "outputs": [],
   "source": [
    "from django.shortcuts import render\n",
    "\n",
    "class UserDescription:\n",
    "    \n",
    "    def get_user_profile(self):\n",
    "        result = self.get_user_discription(UserDescription.user_name)\n",
    "        ......\n",
    "        return result\n",
    "\n",
    "    def show_user_profile(self, name):\n",
    "        # 인스턴스 변수로 사용하여 스레드 간 공유되지 못하도록 한다.\n",
    "        self.user_name = name\n",
    "        self.user_profile = self.get_user_profile()\n",
    "        \n",
    "        return render(request, 'profile.html', {'profile':self.user_profile})"
   ]
  },
  {
   "cell_type": "markdown",
   "metadata": {},
   "source": [
    "##### 제거되지 않고 남은 디버그 코드 (p.132)"
   ]
  },
  {
   "cell_type": "markdown",
   "metadata": {},
   "source": [
    "1) Django 예제"
   ]
  },
  {
   "cell_type": "code",
   "execution_count": null,
   "metadata": {},
   "outputs": [],
   "source": [
    "from django.urls import reverse_lazy\n",
    "from django.utils.text import format_lazy\n",
    "\n",
    "DEBUG =  False\n",
    "\n",
    "ROOT_URLCONF = 'test.urls'\n",
    "SITE_ID = 1\n",
    "\n",
    "DATABASES = {\n",
    "    'default': {\n",
    "        'ENGINE': 'django.db.backends.sqlite3',\n",
    "        'NAME': ':memory:',\n",
    "    }\n",
    "}"
   ]
  },
  {
   "cell_type": "markdown",
   "metadata": {},
   "source": [
    "2) Flask 예제"
   ]
  },
  {
   "cell_type": "code",
   "execution_count": null,
   "metadata": {},
   "outputs": [],
   "source": [
    "from flask import Flask\n",
    "\n",
    "app = Flask(__name__)\n",
    "app.debug = False\n",
    "\n",
    "@app.route('/')\n",
    "def hello_world():\n",
    "    return 'Hello World!'\n",
    "\n",
    "if __name__ == '__main__':\n",
    "    app.run()"
   ]
  },
  {
   "cell_type": "markdown",
   "metadata": {},
   "source": [
    "##### Public 메소드로부터 반환된 Private 배열 (p.135)"
   ]
  },
  {
   "cell_type": "code",
   "execution_count": null,
   "metadata": {},
   "outputs": [],
   "source": [
    "import copy\n",
    "class UserObj():\n",
    "    __private_variable = []\n",
    "    def __init__(self):\n",
    "        pass\n",
    "    \n",
    "    # private 배열을 반환하는 경우 [:]를 사용하여 외부와 내부의\n",
    "    # 배열이 서로 참조되지 않도록 해야 한다\n",
    "    def get_private_member(self):\n",
    "        return self.__private_variable[:]"
   ]
  },
  {
   "cell_type": "markdown",
   "metadata": {},
   "source": [
    "##### Private 배열에 Public 데이터 할당 (p.136)"
   ]
  },
  {
   "cell_type": "code",
   "execution_count": null,
   "metadata": {},
   "outputs": [],
   "source": [
    "class UserObj():\n",
    "    def __init__(self):\n",
    "        self.__privateVariable = []\n",
    "        \n",
    "    # private 배열에 외부 값을 바로 대입하는 경우 [:]를 사용하여\n",
    "    # 외부와 내부의 배열이 서로 참조되지 않도록 해야 함\n",
    "    def set_private_member(self, num):\n",
    "        self.__privateVariable = num[:]"
   ]
  }
 ],
 "metadata": {
  "kernelspec": {
   "display_name": "Python 3 (ipykernel)",
   "language": "python",
   "name": "python3"
  },
  "language_info": {
   "codemirror_mode": {
    "name": "ipython",
    "version": 3
   },
   "file_extension": ".py",
   "mimetype": "text/x-python",
   "name": "python",
   "nbconvert_exporter": "python",
   "pygments_lexer": "ipython3",
   "version": "3.10.2"
  },
  "vscode": {
   "interpreter": {
    "hash": "26de051ba29f2982a8de78e945f0abaf191376122a1563185a90213a26c5da77"
   }
  }
 },
 "nbformat": 4,
 "nbformat_minor": 2
}
