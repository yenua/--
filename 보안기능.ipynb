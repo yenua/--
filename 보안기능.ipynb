{
 "cells": [
  {
   "cell_type": "markdown",
   "metadata": {},
   "source": [
    "##### 적절한 인증 없는 중요 기능 허용 (p.68)"
   ]
  },
  {
   "cell_type": "code",
   "execution_count": null,
   "metadata": {},
   "outputs": [],
   "source": [
    "from django.shortcuts import render\n",
    "from re import escape\n",
    "import hashlib\n",
    "\n",
    "# login_required decorator를 사용하여 login된 사용자만 접근하도록 처리\n",
    "@login_required\n",
    "def change_password(request):\n",
    "    new_pwd = request.POST.get('new_password','')\n",
    "    crnt_pwd = request.POST.get('current_password','')\n",
    "\n",
    "    # 세션에서 로그인한 사용자정보를 가져온다.\n",
    "    user = '%s' % escape(request.session['userid'])\n",
    "\n",
    "    crnt_h = hashlib.sha256(crnt_pwd.encode())\n",
    "    h_pwd = crnt_h.hexdigest()\n",
    "\n",
    "    # DB에서 기존 사용자의 Hash된 패스워드 가져오기\n",
    "    old_pwd = get_password_from_db(user)\n",
    "\n",
    "    # 패스워드를 변경하기 전 사용자에 대해 재인증한다.\n",
    "    if old_pwd == h_pwd:\n",
    "        new_h = hashlib.sha256(new_pwd.encode())\n",
    "        update_password_from_db(user, new_h.hexdigest())\n",
    "        return render(request, '/success.html')"
   ]
  },
  {
   "cell_type": "markdown",
   "metadata": {},
   "source": [
    "##### 부적절한 인가 (p.70)"
   ]
  },
  {
   "cell_type": "code",
   "execution_count": null,
   "metadata": {},
   "outputs": [],
   "source": [
    "from django.shortcuts import render\n",
    "from .model import Content\n",
    "\n",
    "@login_required\n",
    "# 해당 기능을 수행할 권한이 있는지 확인\n",
    "@permission_required('content.delete', raise_exception=True)\n",
    "def delete_content(request):\n",
    "    action = request.POST.get('action', '')\n",
    "    content_id = request.POST.get('content_id', '')\n",
    "    \n",
    "    if action is not None and action == \"delete\":\n",
    "        Content.objects.filter(id=content_id).delete()\n",
    "        return render(request, '/success.html')\n",
    "    else:\n",
    "        return render(request, '/error.html', {'error':'삭제 실패'})"
   ]
  },
  {
   "cell_type": "markdown",
   "metadata": {},
   "source": [
    "##### 중요한 자원에 대한 잘못된 권한 설정 (p.72)"
   ]
  },
  {
   "cell_type": "code",
   "execution_count": null,
   "metadata": {},
   "outputs": [],
   "source": [
    "def write_file():\n",
    "    #모든 사용자가 읽기, 쓰기, 실행 권한을 가지게 됨.\n",
    "    os.chmod('/root/system_config', 0o700)\n",
    "    \n",
    "    with open(\"/root/system_config\", 'w') as f:\n",
    "        f.write(\"your config is broken\")"
   ]
  },
  {
   "cell_type": "markdown",
   "metadata": {},
   "source": [
    "##### 취약한 암호화 알고리즘 사용 (p.76)"
   ]
  },
  {
   "cell_type": "markdown",
   "metadata": {},
   "source": [
    "1) DES 알고리즘 "
   ]
  },
  {
   "cell_type": "code",
   "execution_count": null,
   "metadata": {},
   "outputs": [],
   "source": [
    "import base64\n",
    "from Crypto.Cipher import AES\n",
    "\n",
    "def get_enc_text(plain_text, key):\n",
    "    # 안전한 알고리즘인 AES 를 사용하여 안전함.\n",
    "    cipher_aes = AES.new(key, AES.MODE_CBC, iv)\n",
    "    encrypted_data = base64.b64encode(cipher_des.encrypt(plain_text))\n",
    "    return encrypted_data.decode('ASCII')"
   ]
  },
  {
   "cell_type": "markdown",
   "metadata": {},
   "source": [
    "1) MD5 알고리즘 "
   ]
  },
  {
   "cell_type": "code",
   "execution_count": null,
   "metadata": {},
   "outputs": [],
   "source": [
    "import hashlib\n",
    "\n",
    "def make_md5(plain_text):\n",
    "    # 안전한 sha-256 해쉬함수 사용\n",
    "    hash_text = hashlib.sha256(plain_text.encode('utf-8')).hexdigest()\n",
    "    return hash_text"
   ]
  },
  {
   "cell_type": "markdown",
   "metadata": {},
   "source": [
    "##### 암호화되지 않은 중요정보 (p.72)"
   ]
  },
  {
   "cell_type": "markdown",
   "metadata": {},
   "source": [
    "1) 중요정보 평문저장"
   ]
  },
  {
   "cell_type": "code",
   "execution_count": null,
   "metadata": {},
   "outputs": [],
   "source": [
    "from Crypto.Hash import SHA256\n",
    "\n",
    "def update_pass(dbconn, password, user_id, salt):\n",
    "    # 단방향 암호화를 이용하여 비밀번호를 암호화\n",
    "    hash_obj = SHA256.new()\n",
    "    hash_obj.update(bytes(password + salt, 'utf-8'))\n",
    "    hash_pwd = hash_obj.hexdigest()\n",
    "    curs = dbconn.curs()\n",
    "    curs.execute('UPDATE USERS SET PASSWORD=%s WHERE USER_ID=%s', (hash_pwd,\n",
    "    user_id))"
   ]
  },
  {
   "cell_type": "markdown",
   "metadata": {},
   "source": [
    "2) 중요정보 평문전송"
   ]
  },
  {
   "cell_type": "code",
   "execution_count": null,
   "metadata": {},
   "outputs": [],
   "source": [
    "import socket\n",
    "import os\n",
    "from Crypto.Cipher import AES\n",
    "\n",
    "HOST = '127.0.0.1'\n",
    "PORT = 65434\n",
    "\n",
    "def send_password(password):\n",
    "    ......\n",
    "    block_key = os.environ.get('BLOCK_KEY')\n",
    "    \n",
    "    aes = AEScipher(block_key)\n",
    "    # 패스워드등 중요정보는 암호화하여 전송하는게 안전하다.\n",
    "    enc_passowrd = aes.encrypt(passowrd)\n",
    "    with socket.socket(socket.AF_INET, socket.SOCK_STREAM) as s:\n",
    "        s.connect((HOST, PORT))\n",
    "        s.sendall(enc_passowrd.encode('utf-8'))\n",
    "        data = s.recv(1024)\n",
    "        .......\n",
    "\n",
    "class AEScipher:\n",
    "    BS = AES.block_size\n",
    "    \n",
    "    def __init__(self, s_key):\n",
    "        self.s_key = s_key\n",
    "    \n",
    "    def pad(m):\n",
    "        return m + bytes([BS - len(m) % BS] * (BS - len(m) % BS))\n",
    "    \n",
    "    def encrypt(self, plain):\n",
    "        plain = pad(plain.encode())\n",
    "        iv = os.environ.get('IV_KEY')\n",
    "        cipher = AES.new(self.s_key, AES.MODE_CBC, iv)\n",
    "        return (iv + cipher.encrypt(plain))\n",
    "        ......"
   ]
  },
  {
   "cell_type": "markdown",
   "metadata": {},
   "source": [
    "##### 하드코드된 중요정보 (p.81)"
   ]
  },
  {
   "cell_type": "code",
   "execution_count": null,
   "metadata": {},
   "outputs": [],
   "source": [
    "import pymysql\n",
    "import json\n",
    "\n",
    "def query_execute(query, config_path):\n",
    "    with open(config_path, 'r') as config:\n",
    "        # 설정파일에서 user, passwd를 가져와 사용\n",
    "        dbconf = json.load(fp=config)\n",
    "        #암호화되어 있는 블록암호화 키를 복호화 해서 가져오는\n",
    "        #사용자 정의 함수\n",
    "        blockKey = get_decrypt_key('blockKey')\n",
    "        # 설정파일에 암호화되어 있는 값을 가져와 복호화한 후에 사용\n",
    "        dbUser = decrypt(blockKey, dbconf['user'])\n",
    "        dbPasswd = decrypt(blockKey, dbconf['passwd'])\n",
    "        \n",
    "        dbconn = pymysql.connect(host=dbconf['host'], port=dbconf['port'], user=dbUser, pass\n",
    "        wd=dbPasswd, db=dbconf['db_name'], charset='utf8')\n",
    "        curs = dbconn.cursor()\n",
    "        curs.execute(query)\n",
    "        dbconn.commit()\n",
    "        dbconn.close()"
   ]
  },
  {
   "cell_type": "markdown",
   "metadata": {},
   "source": [
    "##### 충분하지 않은 키 길이 사용 (p.84)"
   ]
  },
  {
   "cell_type": "code",
   "execution_count": null,
   "metadata": {},
   "outputs": [],
   "source": [
    "from Crypto.PublicKey import RSA, DSA, ECC\n",
    "from tinyec import registry\n",
    "import secrets\n",
    "\n",
    "def make_rsa_key_pair():\n",
    "    # RSA키 길이를 2048 비트 이상으로 길게 설정\n",
    "    private_key = RSA.generate(2048)\n",
    "    public_key = private_key.publickey()\n",
    "    \n",
    "def make_ecc():\n",
    "    # ECC 키 길이를 256 비트 이상으로 설정.\n",
    "    ecc_curve = registry.get_curve('secp256r1')\n",
    "    private_key = secrets.randbelow(ecc_curve.field.n)\n",
    "    public_key = private_key * ecc_curve.g"
   ]
  },
  {
   "cell_type": "markdown",
   "metadata": {},
   "source": [
    "##### 적절하지 않은 난수 값 사용 (p.87)"
   ]
  },
  {
   "cell_type": "code",
   "execution_count": null,
   "metadata": {},
   "outputs": [],
   "source": [
    "import secrets\n",
    "\n",
    "def get_otp_number():\n",
    "    random_str = ''\n",
    "    # 보안기능에 적합한 난수 생성용 secrets 라이브러리 사용\n",
    "    for i in range(6):\n",
    "        random_str += str(secrets.randbelow(10))\n",
    "    return random_str"
   ]
  },
  {
   "cell_type": "code",
   "execution_count": null,
   "metadata": {},
   "outputs": [],
   "source": [
    "import secrets\n",
    "import string\n",
    "\n",
    "def generate_session_key():\n",
    "    RANDOM_STRING_CHARS = string.ascii_letters+string.digits\n",
    "    # 보안기능과 관련된 난수는 secrets 라이브러리를 사용해야 안전하다.\n",
    "    return \"\".join(secrets.choice(RANDOM_STRING_CHARS) for i in range(32))"
   ]
  },
  {
   "cell_type": "markdown",
   "metadata": {},
   "source": [
    "##### 취약한 비밀번호 허용 (p.89)"
   ]
  },
  {
   "cell_type": "code",
   "execution_count": null,
   "metadata": {},
   "outputs": [],
   "source": [
    "from flask import request, redirect\n",
    "from Models import User\n",
    "from Models import db\n",
    "import re\n",
    "\n",
    "@app.route('/register', methods=['POST'])\n",
    "def register():\n",
    "    userid = request.form.get('userid')\n",
    "    password = request.form.get('password')\n",
    "    confirm_password = request.form.get('confirm_password')\n",
    "\n",
    "    if password != confirm_password:\n",
    "        return make_response(\"비밀번호가 일치하지 않습니다.\", 200)\n",
    "\n",
    "    if not check_password(password):\n",
    "        return make_response(\"비밀번호 조합규칙에 맞지 않습니다.\", 200)\n",
    "    else:\n",
    "        usertable=User()\n",
    "        usertable.userid = userid\n",
    "        usertable.password = password\n",
    "        \n",
    "        db.session.add(usertable)\n",
    "        db.session.commit()\n",
    "        return make_response(\"회원가입 성공\", 200)\n",
    "\n",
    "def check_password(password):\n",
    "    # 2종 이상 문자로 구성된 8자리 이상 비밀번호 검사 정규식\n",
    "    PT1 = re.compile('^(?=.*[A-Z])(?=.*[a-z])[A-Za-z\\d!@#$%^&*]{8,}$')\n",
    "    PT2 = re.compile('^(?=.*[A-Z])(?=.*\\d)[A-Za-z\\d!@#$%^&*]{8,}$')\n",
    "    PT3 = re.compile('^(?=.*[A-Z])(?=.*[!@#$%^&*])[A-Za-z\\d!@#$%^&*]{8,}$')\n",
    "    PT4 = re.compile('^(?=.*[a-z])(?=.*\\d)[A-Za-z\\d!@#$%^&*]{8,}$')\n",
    "    PT5 = re.compile('^(?=.*[a-z])(?=.*[!@#$%^&*])[A-Za-z\\d!@#$%^&*]{8,}$')\n",
    "    PT6 = re.compile('^(?=.*\\d)(?=.*[!@#$%^&*])[A-Za-z\\d!@#$%^&*]{8,}$')\n",
    "\n",
    "    # 문자 구성 상관없이 10자리 이상 비밀번호 검사 정규식\n",
    "    PT7 = re.compile('^[A-Za-z\\d!@#$%^&*]{10,}$')\n",
    "    \n",
    "    for pattern in [PT1, PT2, PT3, PT4, PT5, PT6, PT7]:\n",
    "        if pattern.match(password):\n",
    "            return True\n",
    "    return False"
   ]
  },
  {
   "cell_type": "markdown",
   "metadata": {},
   "source": [
    "Django 프레임워크의 VALIDATORS 사용"
   ]
  },
  {
   "cell_type": "code",
   "execution_count": null,
   "metadata": {},
   "outputs": [],
   "source": [
    "import re\n",
    "from django.core.exceptions import ValidationError\n",
    "from django.utils.translation import ugettext as _\n",
    "\n",
    "class CustomValidator(object):\n",
    "    def validate(self, password, user=None):\n",
    "        # 2종 이상 문자로 구성된 8자리 이상 비밀번호 검사 정규식\n",
    "        PT1 = re.compile('^(?=.*[A-Z])(?=.*[a-z])[A-Za-z\\d!@#$%^&*]{8,}$')\n",
    "        PT2 = re.compile('^(?=.*[A-Z])(?=.*\\d)[A-Za-z\\d$@$!%*?&]{8,}$')\n",
    "        PT3 = re.compile('^(?=.*[A-Z])(?=.*[!@#$%^&*])[A-Za-z\\d!@#$%^&*]{8,}$')\n",
    "        PT4 = re.compile('^(?=.*[a-z])(?=.*\\d)[A-Za-z\\d!@#$%^&*]{8,}$')\n",
    "        PT5 = re.compile('^(?=.*[a-z])(?=.*[!@#$%^&*])[A-Za-z\\d!@#$%^&*]{8,}$')\n",
    "        PT6 = re.compile('^(?=.*\\d)(?=.*[!@#$%^&*])[A-Za-z\\d!@#$%^&*]{8,}$')\n",
    "        \n",
    "        # 문자 구성 상관없이 10자리 이상 비밀번호 검사 정규식\n",
    "        PT7 = re.compile('^[A-Za-z\\d!@#$%^&*]{10,}$')\n",
    "        for pattern in [PT1, PT2, PT3, PT4, PT5, PT6, PT7]:\n",
    "            if pattern.match(password):\n",
    "                return None\n",
    "        raise ValidationError(\n",
    "                _(\"비밀번호 조합규칙에 적합하지 않습니다..\"),\n",
    "                code='improper_password',\n",
    "                )\n",
    "    def get_help_text(self):\n",
    "        return _(\n",
    "        \"비밀번호는 영문 대문자, 소문자, 숫자, 특수문자 조합 중 2가지 이상 8자리이거나 문자 구성 상\n",
    "        관없이 10자리 이상이어야 합니다.\"\n",
    "        )"
   ]
  },
  {
   "cell_type": "markdown",
   "metadata": {},
   "source": [
    "##### 사용자 하드디스크에 저장되는 쿠키를 통한 정보 노출 (p.93)"
   ]
  },
  {
   "cell_type": "code",
   "execution_count": null,
   "metadata": {},
   "outputs": [],
   "source": [
    "from django.http import HttpResponse\n",
    "\n",
    "def remind_user_state(request):\n",
    "    res = HttpResponse()\n",
    "    #쿠키의 만료시간을 적절하게 부여하고 secure 옵션을 활성화 한다.\n",
    "    res.set_cookie('rememberme', 1, max_age=60*60, secure=True, httponly=True)\n",
    "    return res"
   ]
  },
  {
   "cell_type": "code",
   "execution_count": null,
   "metadata": {},
   "outputs": [],
   "source": [
    "# settings.py\n",
    "\n",
    "SESSION_COOKIE_AGE = 60 * 60 # default 2weeks\n",
    "\n",
    "SESSION_COOKIE_HTTPONLY = True # default True\n",
    "\n",
    "SEESION_COOKIE_SECURE = True # default False"
   ]
  },
  {
   "cell_type": "markdown",
   "metadata": {},
   "source": [
    "##### 주석문 안에 포함된 시스템 주요정보 (p.95)"
   ]
  },
  {
   "cell_type": "code",
   "execution_count": null,
   "metadata": {},
   "outputs": [],
   "source": [
    "def user_login(id, passwd):\n",
    "    # 주석문에 포함된 민감한 정보는 삭제\n",
    "    result = login(id, passwd)\n",
    "    return result"
   ]
  },
  {
   "cell_type": "markdown",
   "metadata": {},
   "source": [
    "##### 솔트 없이 일방향 해쉬 함수 사용 (p.97)"
   ]
  },
  {
   "cell_type": "code",
   "execution_count": null,
   "metadata": {},
   "outputs": [],
   "source": [
    "import hashlib\n",
    "import secrets\n",
    "\n",
    "def get_hash_from_pwd(pw):\n",
    "    # 비밀번호와 같이 길이가 짧은 값을 이용하여\n",
    "    # 고강도의 해시를 생성하기 위해서는 salt값을\n",
    "    # 사용하면 강도높은 해시를 생성할 수 있다\n",
    "    salt = secrets.token_hex(32)\n",
    "    h = hashlib.sha256(salt.encode() + pw.encode())\n",
    "    \n",
    "    return h.digest(), salt"
   ]
  },
  {
   "cell_type": "markdown",
   "metadata": {},
   "source": [
    "##### 무결성 검사없는 코드 다운로드 (p.100)"
   ]
  },
  {
   "cell_type": "code",
   "execution_count": null,
   "metadata": {},
   "outputs": [],
   "source": [
    "import requests\n",
    "import hashlib\n",
    "\n",
    "def execute_remote_code():\n",
    "    url = \"https://www.somewhere.com/storage/code.py\"\n",
    "    remote_code_hash = config.get('HASH', 'file_hash')\n",
    "\n",
    "    #원격 코드 다운로드\n",
    "    file = requests.get(url)\n",
    "    remote_code = file.content\n",
    "\n",
    "    sha = hashlib.sha256()\n",
    "    sha.update(remote_code)\n",
    "\n",
    "    #다운로드 받은 파일의 해시값 검증\n",
    "    if sha.hexdigest() != remote_code_hash:\n",
    "        raise Exception(‘파일이 손상되었습니다.’)\n",
    "    \n",
    "    file_name = 'save.py'\n",
    "    with open(file_name, 'wb') as f\n",
    "        f.write(file.content)\n",
    "    ......"
   ]
  },
  {
   "cell_type": "markdown",
   "metadata": {},
   "source": [
    "##### 반복된 인증시도 제한 기능 부재 (p.102)"
   ]
  },
  {
   "cell_type": "code",
   "execution_count": null,
   "metadata": {},
   "outputs": [],
   "source": [
    "import hashlib\n",
    "from django.shortcuts import render\n",
    "\n",
    "LOGIN_TRY_LIMIT = 5\n",
    "\n",
    "def login(request):\n",
    "    user_id = request.POST.get('user_id', '')\n",
    "    user_pw = request.POST.get('user_pw', '')\n",
    "    \n",
    "    # 로그인 실패기록 가져오기\n",
    "    login_fail = models.LoginFail.objects.filter(user_id)\n",
    "    # 로그인 실패횟수 초과로 인해 잠금된 계정에 대한 인증 시도 제한\n",
    "    if login_fail.count() >= LOGIN_TRY_LIMIT:\n",
    "        return render(request, '/account_lock.html', {'state':'account_lock'})\n",
    "    else:\n",
    "        sha = hashlib.sha256()\n",
    "        sha.update(user_pw)"
   ]
  }
 ],
 "metadata": {
  "kernelspec": {
   "display_name": "Python 3 (ipykernel)",
   "language": "python",
   "name": "python3"
  },
  "language_info": {
   "codemirror_mode": {
    "name": "ipython",
    "version": 3
   },
   "file_extension": ".py",
   "mimetype": "text/x-python",
   "name": "python",
   "nbconvert_exporter": "python",
   "pygments_lexer": "ipython3",
   "version": "3.10.2"
  },
  "vscode": {
   "interpreter": {
    "hash": "26de051ba29f2982a8de78e945f0abaf191376122a1563185a90213a26c5da77"
   }
  }
 },
 "nbformat": 4,
 "nbformat_minor": 2
}
