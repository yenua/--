{
 "cells": [
  {
   "cell_type": "markdown",
   "metadata": {},
   "source": [
    "##### 경쟁조건: 검사시점과 사용시점(TOCTOU) (p.106)"
   ]
  },
  {
   "cell_type": "code",
   "execution_count": null,
   "metadata": {},
   "outputs": [],
   "source": [
    "import io\n",
    "import datetime\n",
    "import threading\n",
    "\n",
    "lock = threading.Lock()\n",
    "def write_shared_file(filename, content):\n",
    "    # lock을 이용하여 여러 사용자가 동시에 파일에 접근하지 못하도록 제한\n",
    "    with lock:\n",
    "        if os.path.isfile(filename) is True:\n",
    "            f = open(filename, 'w')\n",
    "            f.seek(0, io.SEEK_END)\n",
    "            f.write(content)\n",
    "            f.close()\n",
    "                \n",
    "def start():\n",
    "    filename = ‘./temp.txt’\n",
    "    content = ‘start time is ’ + datetime.datetime.now()\n",
    "    my_thread = threading.Thread(target=write_shared_file, args=(filename, content))\n",
    "    my_thread.start()"
   ]
  },
  {
   "cell_type": "markdown",
   "metadata": {},
   "source": [
    "##### 종료되지 않는 반복문 또는 재귀 함수 (p.108)"
   ]
  },
  {
   "cell_type": "code",
   "execution_count": null,
   "metadata": {},
   "outputs": [],
   "source": [
    "def factorial(num):\n",
    "    # 재귀함수 사용 시에는 탈출 조건을 명시해야 한다.\n",
    "    if (num == 0):\n",
    "        return 1\n",
    "    return num * factorial(num – 1)\n",
    "\n",
    "if __name__ == '__main__':\n",
    "    itr = 5\n",
    "    result = factorial(itr)\n",
    "    print(str(itr) + ' 팩토리얼 값은 : ' + str(result))"
   ]
  },
  {
   "cell_type": "code",
   "execution_count": null,
   "metadata": {},
   "outputs": [],
   "source": [
    "import sys\n",
    "\n",
    "sys.setrecursionlimit(1000) #재귀 반복 제한 (Python은 1000, 아나콘다는 2000이 디폴트, 과도한 변경 금지)"
   ]
  }
 ],
 "metadata": {
  "kernelspec": {
   "display_name": "Python 3 (ipykernel)",
   "language": "python",
   "name": "python3"
  },
  "language_info": {
   "codemirror_mode": {
    "name": "ipython",
    "version": 3
   },
   "file_extension": ".py",
   "mimetype": "text/x-python",
   "name": "python",
   "nbconvert_exporter": "python",
   "pygments_lexer": "ipython3",
   "version": "3.10.2"
  },
  "vscode": {
   "interpreter": {
    "hash": "26de051ba29f2982a8de78e945f0abaf191376122a1563185a90213a26c5da77"
   }
  }
 },
 "nbformat": 4,
 "nbformat_minor": 2
}
