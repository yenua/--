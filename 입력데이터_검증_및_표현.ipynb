{
 "cells": [
  {
   "cell_type": "markdown",
   "metadata": {},
   "source": [
    "##### SQL 삽입 (p.15)"
   ]
  },
  {
   "cell_type": "markdown",
   "metadata": {},
   "source": [
    "1) DB-API 사용 예제"
   ]
  },
  {
   "cell_type": "code",
   "execution_count": null,
   "metadata": {},
   "outputs": [],
   "source": [
    "from django.shortcuts import render\n",
    "\n",
    "def update_board(request):\n",
    "    ...\n",
    "\twith dbconn.cursor() as curs:\n",
    "\t\t# 외부로부터 입력받은 값을 검증 없이 사용할 경우 안전하지 않다.\n",
    "\t\tname = request.POST.get('name', '') ## !\n",
    "\t\tcontent_id = request.POST.get('content_id', '') ## !\n",
    "\n",
    "\t\t# 사용자의 검증되지 않은 입력으로 부터 동적으로 쿼리문 생성\n",
    "\t\tsql_query = \"update board set name='\" + name + \"' where content_id='“ + content_id + \"'\"\n",
    "\t\t\n",
    "\t\t# 외부 입력값이 검증 없이 쿼리로 수행되어 안전하지 않다.\n",
    "\t\tcurs.execute(sql_query) ## !\n",
    "\t\tcurs.commit()\n",
    "\t\treturn render(request, '/success.html')"
   ]
  },
  {
   "cell_type": "markdown",
   "metadata": {},
   "source": [
    "2) ORM 사용 예제"
   ]
  },
  {
   "cell_type": "code",
   "execution_count": null,
   "metadata": {},
   "outputs": [],
   "source": [
    "from django.shortcuts import render\n",
    "from app.models import Member\n",
    "\n",
    "def member_search(request):\n",
    "    # 외부로부터 입력 값을 가져온다.\n",
    "    name = request.POST.get('name', '') ## !\n",
    "    \n",
    "    # 외부로부터 입력 받은 값을 검증 없이 쿼리문 생성에 사용하여\n",
    "    # 안전하지 않다.\n",
    "    query=“select * from member where name=‘” + name + “’”\n",
    "    \n",
    "    # 외부 입력 값을 검증 없이 사용한 쿼리문을 raw()함수로 실행하면\n",
    "    # 안전하지 않다.\n",
    "    data = Member.objects.raw(query) ## !\n",
    "    return render(request, '/member_list.html', {'member_list':data})"
   ]
  },
  {
   "cell_type": "markdown",
   "metadata": {},
   "source": [
    "##### 코드삽입 (p.20)"
   ]
  },
  {
   "cell_type": "markdown",
   "metadata": {},
   "source": [
    "1) eval()함수 사용 예제"
   ]
  },
  {
   "cell_type": "code",
   "execution_count": null,
   "metadata": {},
   "outputs": [],
   "source": [
    "from django.shortcuts import render\n",
    "\n",
    "def route(request):\n",
    "    #외부로 입력받은 값을 검증 없이 사용하면 안전하지 않다.\n",
    "    message = request.POST.get('message', '') ## !\n",
    "    \n",
    "    # eval함수에 외부 입력값을 검증 없이 사용할 경우 Python 코드가\n",
    "    # 실행될 수 있어 위험하다.\n",
    "    \n",
    "    ret = eval(message) ## !\n",
    "    return render(request, '/success.html', {'data':ret})"
   ]
  },
  {
   "cell_type": "markdown",
   "metadata": {},
   "source": [
    "2) exec()함수 사용 예제"
   ]
  },
  {
   "cell_type": "code",
   "execution_count": null,
   "metadata": {},
   "outputs": [],
   "source": [
    "from django.shortcuts import render\n",
    "\n",
    "def request_rest_api(request):\n",
    "    function_name = request.POST.get('function_name', '') ## !\n",
    "    \n",
    "    # 사용자에게 전달받은 함수명을 검증하지 않고 실행\n",
    "    # 입력 값으로 “import plaform \\n platform.system()” 등을 입력 시\n",
    "    # 시스템정보 노출 위험이 있다.\n",
    "    ret = exec('{}()'.format(function_name)) ## !\n",
    "    \n",
    "    return render(request, '/success', {'data':ret})"
   ]
  },
  {
   "cell_type": "markdown",
   "metadata": {},
   "source": [
    "##### 경로 조작 및 자원 삽입 (p.24)"
   ]
  },
  {
   "cell_type": "markdown",
   "metadata": {},
   "source": [
    "1) 경로 조작 예제"
   ]
  },
  {
   "cell_type": "code",
   "execution_count": null,
   "metadata": {},
   "outputs": [],
   "source": [
    "import os\n",
    "from django.shortcuts import render\n",
    "\n",
    "def get_info(request):\n",
    "    # 외부로부터 파일명을 입력받고 있다.\n",
    "    request_file = request.POST.get('request_file') ## !\n",
    "    filename, file_ext = os.path.splitext(request_file)\n",
    "    file_ext = file_ext.lower()\n",
    "    \n",
    "    if file_ext not in ['.txt', '.csv']:\n",
    "        return render(request, '/error.html', {'error':'파일을 열수 없습니다.'})\n",
    "    \n",
    "    # 외부로부터 입력받은 값을 검증 없이 파일 처리에 사용하였다.\n",
    "    with open(request_file) as f: ## !\n",
    "        data = f.read()\n",
    "    \n",
    "    return render(request, '/success.html', {'data':data})"
   ]
  },
  {
   "cell_type": "markdown",
   "metadata": {},
   "source": [
    "2) 자원 삽입 예제"
   ]
  },
  {
   "cell_type": "code",
   "execution_count": null,
   "metadata": {},
   "outputs": [],
   "source": [
    "import socket\n",
    "from django.shortcuts import render\n",
    "\n",
    "def get_info(request):\n",
    "    port = request.POST.get('port') ## !\n",
    "    \n",
    "    with socket.socket(socket.AF_INET, socket.SOCK_STREAM) as s:\n",
    "        # 외부로부터 입력받은 검증되지 않은 포트번호를 이용하여\n",
    "        # 소켓을 바인딩 하여 사용하고 있어 안전하지 않다.\n",
    "        s.bind(('127.0.0.1', port)) ## ! port\n",
    "        ...\n",
    "        return render(request, '/success')\n",
    "    return render(request, '/error', {'error':'소켓연결 실패'})"
   ]
  },
  {
   "cell_type": "markdown",
   "metadata": {},
   "source": [
    "##### 크로스사이트 스크립트(XSS) (p.29)"
   ]
  },
  {
   "cell_type": "markdown",
   "metadata": {},
   "source": [
    "1) Django 예제"
   ]
  },
  {
   "cell_type": "code",
   "execution_count": null,
   "metadata": {},
   "outputs": [],
   "source": [
    "from django.shortcuts import render\n",
    "from django.utils.safestring import mark_safe ## !\n",
    "\n",
    "def profile_link(request):\n",
    "    # 외부 입력값을 검증 없이 HTML 태그 생성의 인자로 사용\n",
    "    profile_url = request.POST.get('profile_url')\n",
    "    profile_name = requst.POST.get('profile_name')\n",
    "    \n",
    "    object_link = '<a href=\"{}\">{}</a>'.format(profile_url, profile_name)\n",
    "    # mark_safe함수는 Django의 XSS escape 정책을 따르지 않는다.\n",
    "    object_link = mark_safe(object_link) ## !\n",
    "    \n",
    "    return render(request, 'my_profile.html',{'object_link':object_link})"
   ]
  },
  {
   "cell_type": "code",
   "execution_count": null,
   "metadata": {},
   "outputs": [],
   "source": [
    "<!doctype html>\n",
    "<html>\n",
    "    <body>\n",
    "        <div class=\"content\">\n",
    "            {% autoescape off %} ## !\n",
    "                // autoescape off로 해당 블록내의 데이터는 XSS 공격에\n",
    "                // 노출될 수 있음.\n",
    "                {{ content }} ## !\n",
    "            {% endautoescape %} ## !\n",
    "        </div>\n",
    "        <div class=\"content2\">\n",
    "            //safe 필터 사용으로 XSS 공격에 노출될 수 있음.\n",
    "            {{ content | safe }} ## !\n",
    "        </div>\n",
    "    </body>\n",
    "</html>"
   ]
  },
  {
   "cell_type": "markdown",
   "metadata": {},
   "source": [
    "2) Flak 예제"
   ]
  },
  {
   "cell_type": "code",
   "execution_count": null,
   "metadata": {},
   "outputs": [],
   "source": [
    "from flask import Flask, request, render_template\n",
    "\n",
    "@app.route('/search', methods=['POST'])\n",
    "def search():\n",
    "    search_keyword = request.form.get('search_keyword') ## !\n",
    "    # 사용자의 입력을 아무런 검증 또는 치환 없이 동적 웹 페이지에 사용하고 있어\n",
    "    # 크로스 사이트 스크립트가 발생할 수 있다\n",
    "    return render_template('search.html', search_keyword=search_keyword) ## !"
   ]
  },
  {
   "cell_type": "markdown",
   "metadata": {},
   "source": [
    "##### 운영체제 명령어 삽입 (p.34)"
   ]
  },
  {
   "cell_type": "code",
   "execution_count": null,
   "metadata": {},
   "outputs": [],
   "source": [
    "import os\n",
    "from django.shortcuts import render\n",
    "\n",
    "def execute_command(request):\n",
    "    app_name_string = request.POST.get('app_name','') ## !\n",
    "    # 입력받은 파라미터를 제한하지 않아 외부 입력값으로 전달된\n",
    "    # 모든 프로그램이 실행될 수 있음\n",
    "    os.system(app_name_string) ## !\n",
    "    return render(request, '/success.html')"
   ]
  },
  {
   "cell_type": "code",
   "execution_count": null,
   "metadata": {},
   "outputs": [],
   "source": [
    "import subprocess\n",
    "from django.shortcuts import render\n",
    "\n",
    "def execute_command(request):\n",
    "    date = request.POST.get('date','') ## !\n",
    "    # 입력받은 파라미터를 제한하지 않아 전달된 모든 프로그램이\n",
    "    # 실행될 수 있음\n",
    "    cmd_str = “cmd /c backuplog.bat ” + date\n",
    "    subprocess.run(cmd_str, shell=True) ## !\n",
    "    return render(request, '/success.html')"
   ]
  },
  {
   "cell_type": "markdown",
   "metadata": {},
   "source": [
    "##### 위험한 형식 파일 업로드 (p.38)"
   ]
  },
  {
   "cell_type": "code",
   "execution_count": null,
   "metadata": {},
   "outputs": [],
   "source": [
    "from django.shortcuts import render\n",
    "from django.core.files.storage import FileSystemStorage\n",
    "\n",
    "def file_upload(request):\n",
    "    if request.FILES['upload_file']:\n",
    "        # 사용자로부터 업로드 되는 파일에 대해 검증 없이 저장하고 있어\n",
    "        # 안전하지 않다.\n",
    "        upload_file = request.FILES['upload_file'] ## !\n",
    "        fs = FileSystemStorage(location='media/screenshot', base_url='media/screenshot')\n",
    "        # 업로드 하는 파일에 대한 크기, 개수, 확장자 등을 검증 하지 않음.\n",
    "        filename = fs.save(upload_file.name, upload_file)\n",
    "        return render(request, '/success.html', {'filename':filename})\n",
    "    return render(request, '/error.html', {'error':'파일 업로드 실패'})"
   ]
  },
  {
   "cell_type": "markdown",
   "metadata": {},
   "source": [
    "##### 신뢰되지 않은 URL주소로 자동접속 연결 (p.41)"
   ]
  },
  {
   "cell_type": "code",
   "execution_count": null,
   "metadata": {},
   "outputs": [],
   "source": [
    "from django.shortcuts import redirect\n",
    "\n",
    "def redirect_url(request):\n",
    "    url_string = request.POST.get('url', '') ## !\n",
    "    # 사용자 입력에 포함된 URL 주소로 리다이렉트 하는 경우\n",
    "    # 피싱 사이트로 접속되는 등 사용자가 피싱 공격에 노출될 수 있다\n",
    "    return redirect(url_string) ## !"
   ]
  },
  {
   "cell_type": "markdown",
   "metadata": {},
   "source": [
    "##### 부적절한 XML 외부 개체 참조 (p.44)"
   ]
  },
  {
   "cell_type": "code",
   "execution_count": null,
   "metadata": {},
   "outputs": [],
   "source": [
    "from xml.sax import make_parser\n",
    "from xml.sax.handler import feature_external_ges\n",
    "from xml.dom.pulldom import parseString, START_ELEMENT\n",
    "from django.shortcuts import render\n",
    "from .model import comments\n",
    "\n",
    "def get_xml(request):\n",
    "    if request.method == “GET”:\n",
    "        data = comments.objects.all()\n",
    "        com = data[0].comment ## !\n",
    "        return render(request, '/xml_view.html', {'com':com}) ## !\n",
    "    \n",
    "    elif request.method == “POST”:\n",
    "        parser = make_parser()\n",
    "        parser.setFeature(feature_external_ges, True) ## !\n",
    "        doc = parseString(request.body.decode(‘utf-8’), parser=parser)\n",
    "        for event, node in doc:\n",
    "            if event == START_ELEMENT and node.tagName == “foo”:\n",
    "                doc.expandNode(node)\n",
    "                text = node.toxml()\n",
    "        comments.objects.filter(id=1).update(comment=text);\n",
    "        return render(request, '/xml_view.html')"
   ]
  },
  {
   "cell_type": "markdown",
   "metadata": {},
   "source": [
    "##### XML 삽입 (p.46)"
   ]
  },
  {
   "cell_type": "code",
   "execution_count": null,
   "metadata": {},
   "outputs": [],
   "source": [
    "from lxml import etree\n",
    "\n",
    "def parse_xml(request):\n",
    "    user_name = request.POST.get('user_name', '') ## !\n",
    "    \n",
    "    parser = etree.XMLParser(resolve_entities=False)\n",
    "    tree = etree.parse('user.xml', parser)\n",
    "    root = tree.getroot()\n",
    "    \n",
    "    # 검증되지 않은 외부 입력값 user_name를 사용하여\n",
    "    # 안전하지 않은 질의문이 작성되에 query변수에 저장\n",
    "    path = \"/collection/users/user[@name='\" + user_name + \"']/home/text()\" ## !\n",
    "    elmts = root.xpath(query)\n",
    "    return render(request, 'parse_xml.html', {'xml_element':elmts})"
   ]
  },
  {
   "cell_type": "markdown",
   "metadata": {},
   "source": [
    "##### LDAP 삽입 (p.49)"
   ]
  },
  {
   "cell_type": "code",
   "execution_count": null,
   "metadata": {},
   "outputs": [],
   "source": [
    "from ldap3 import Connection, Server, ALL\n",
    "from django.shortcuts import render\n",
    "\n",
    "def ldap_query(request):\n",
    "    # 외부 입력값으로 LDAP 쿼리문의 인자에 검증 없이 사용하면\n",
    "    # 안전하지 않다.\n",
    "    search_keyword = request.POST.get('search_keyword','') ## !\n",
    "    \n",
    "    dn = server.config['bind_dn']\n",
    "    password = server.config['password']\n",
    "    \n",
    "    address = 'ldap.badSoruce.com'\n",
    "    server = Server(address, get_info=ALL)\n",
    "    conn = Connection(server, user=dn, password, auto_bind=True )\n",
    "    \n",
    "    # 사용자 입력을 필터링 하지 않는 경우 공격자의 권한 상승으로\n",
    "    # 이어질 수 있다\n",
    "    search_str = '(&(objectclass=%s))' % search_keyword ## !\n",
    "    \n",
    "    conn.search('dc=company,dc=com', search_str, attributes=['sn', 'cn', 'address', 'mail', 'mobile', 'uid']) ## ! search_str\n",
    "    return render(request, '/ldap_query_response.html', {'ldap':conn.entries})"
   ]
  },
  {
   "cell_type": "markdown",
   "metadata": {},
   "source": [
    "#####  크로스사이트 요청 위조(CSRF) (p.52)"
   ]
  },
  {
   "cell_type": "markdown",
   "metadata": {},
   "source": [
    "1. Django 프레임워크 사용 - 미들웨어 설정(settings.py) 사례"
   ]
  },
  {
   "cell_type": "code",
   "execution_count": null,
   "metadata": {},
   "outputs": [],
   "source": [
    "MIDDLEWARE = [\n",
    "    'django.contrib.sessions.middleware.SessionMiddleware',\n",
    "    # MIDDLEWARE 목록에서 csrf 항목을 삭제 또는 주석처리 하면\n",
    "    # Django 앱에서 csrf 유효성 검사가 전역적으로 제거 됨\n",
    "    # 'django.middleware.csrf.CsrfViewMiddleware', ## !\n",
    "    'django.contrib.auth.middleware.AuthenticationMiddleware',\n",
    "    'django.contrib.messages.middleware.MessageMiddleware',\n",
    "    'django.middleware.locale.LocaleMiddleware',\n",
    "    ......\n",
    "]"
   ]
  },
  {
   "cell_type": "markdown",
   "metadata": {},
   "source": [
    "2. Django 프레임워크 사용 - 뷰 기능 설정(views.py) 사례"
   ]
  },
  {
   "cell_type": "code",
   "execution_count": null,
   "metadata": {},
   "outputs": [],
   "source": [
    "from django.shortcuts import render\n",
    "from django.views.decorators.csrf import csrf_exempt\n",
    "\n",
    "# csrf.exempt 데코레이터로 미들웨어에서 보호되는 CSRF 기능을 해제한다.\n",
    "@csrf.exempt ## !\n",
    "def pay_to_point(request):\n",
    "    user_id = request.POST.get('user_id', '')\n",
    "    pay = request.POST.get('pay', '')\n",
    "    product_info = request.POST.get('product_info', '')\n",
    "    \n",
    "    ret = pay(user_id, pay, product_info)\n",
    "    \n",
    "    return render(request, '/view_wallet.html', {'wallet':ret})"
   ]
  },
  {
   "cell_type": "markdown",
   "metadata": {},
   "source": [
    "3. Django 프레임워크 사용 - 템플릿 설정 사례"
   ]
  },
  {
   "cell_type": "code",
   "execution_count": null,
   "metadata": {},
   "outputs": [],
   "source": [
    "<!--html page-->\n",
    "<form action=\"\" method=\"POST\">\n",
    "<!-- form 태그 내부에 csrf_token 미적용--> <! >\n",
    "    <table>\n",
    "        {{form.as_table}}\n",
    "    </table>\n",
    "    <input type=\"submit\"/>\n",
    "</form>"
   ]
  },
  {
   "cell_type": "markdown",
   "metadata": {},
   "source": [
    "4. Flask 프레임워크 사용 - app 설정 사례"
   ]
  },
  {
   "cell_type": "code",
   "execution_count": null,
   "metadata": {},
   "outputs": [],
   "source": [
    "from flask import Flask\n",
    "\n",
    "app = Flask(__name__)"
   ]
  },
  {
   "cell_type": "markdown",
   "metadata": {},
   "source": [
    "5. Flask 프레임워크 사용 - 템플릿 설정 사례"
   ]
  },
  {
   "cell_type": "code",
   "execution_count": null,
   "metadata": {},
   "outputs": [],
   "source": [
    "<form action=\"\" method=\"POST\">\n",
    "<!-- form 태그 내부에 csrf_token 미적용--> <! >\n",
    "    <table>\n",
    "        {{as_table}}\n",
    "    </table>\n",
    "    <input type=\"submit\"/>\n",
    "</form>"
   ]
  },
  {
   "cell_type": "markdown",
   "metadata": {},
   "source": [
    "##### 서버사이드 요청 위조 (p.58)"
   ]
  },
  {
   "cell_type": "code",
   "execution_count": null,
   "metadata": {},
   "outputs": [],
   "source": [
    "from django.shortcuts import render\n",
    "import requests\n",
    "\n",
    "def call_third_party_api(request):\n",
    "    addr = request.POST.get('address', '') ## !\n",
    "    \n",
    "    # 사용자가 입력한 주소를 검증하지 않고 HTTP 요청을 보내고 응답을\n",
    "    # 사용자에게 반환\n",
    "    result = requests.get(addr).text ## !\n",
    "    return render(request, '/result.html', {'result':result})"
   ]
  },
  {
   "cell_type": "code",
   "execution_count": null,
   "metadata": {},
   "outputs": [],
   "source": []
  },
  {
   "cell_type": "markdown",
   "metadata": {},
   "source": [
    "##### HTTP 응답분할 (p.61)"
   ]
  },
  {
   "cell_type": "code",
   "execution_count": null,
   "metadata": {},
   "outputs": [],
   "source": [
    "from django.http import HttpResponse\n",
    "\n",
    "def route(request):\n",
    "    content_type = request.POST.get('contnet-type')\n",
    "    # 외부 입력값을 검증 또는 필터링 하지 않고\n",
    "    # 응답헤더의 값으로 포함시켜 회신한다.\n",
    "    ......\n",
    "    res = HttpResponse()\n",
    "    res['Content-Type'] = content_type ## !\n",
    "    return res"
   ]
  },
  {
   "cell_type": "markdown",
   "metadata": {},
   "source": [
    "##### 보안기능 결정에 사용되는 부적절한 입력값 (p.63)"
   ]
  },
  {
   "cell_type": "code",
   "execution_count": null,
   "metadata": {},
   "outputs": [],
   "source": [
    "from django.shortcuts import render\n",
    "\n",
    "def init_password(request):\n",
    "    # 쿠키에서 권한 정보를 가져옴\n",
    "    roll = request.COOKIE['roll'] ## !\n",
    "    request_id = request.POST.get('user_id', '')\n",
    "    request_mail = request.POST.get('user_email','')\n",
    "    # 쿠키에서 가져온 권한이 관리자인지 비교\n",
    "    if roll == 'admin' ## !\n",
    "        # 사용자의 패스워드 초기화 및 메일 발송 처리\n",
    "        password_init_and_sendmail(request_id, request_mail)\n",
    "        return render(request, '/sucess.html')\n",
    "    else:\n",
    "        return render(request, '/failed.html')"
   ]
  },
  {
   "cell_type": "markdown",
   "metadata": {},
   "source": [
    "##### 포맷 스트링 삽입 (p.66)"
   ]
  },
  {
   "cell_type": "code",
   "execution_count": null,
   "metadata": {},
   "outputs": [],
   "source": [
    "from django.shortcuts import render\n",
    "AUTHENTICATE_KEY = 'Passw0rd' ## !\n",
    "\n",
    "def make_user_message(request):\n",
    "    user_info = get_user_info(request.POST.get('user_id', ''))\n",
    "    \n",
    "    format_string = request.POST.get('msg_format', '') ## !\n",
    "    # 내부의 민감한 정보가 외부로 노출될 수 있다.\n",
    "    # 사용자가 입력한 문자열을 포맷 문자열로 사용하고 있어 안전하지 않다\n",
    "    message = format_string.format(user=user_info) ## !\n",
    "    \n",
    "    return render(request, '/user_page', {'message':message})"
   ]
  }
 ],
 "metadata": {
  "kernelspec": {
   "display_name": "Python 3 (ipykernel)",
   "language": "python",
   "name": "python3"
  },
  "language_info": {
   "codemirror_mode": {
    "name": "ipython",
    "version": 3
   },
   "file_extension": ".py",
   "mimetype": "text/x-python",
   "name": "python",
   "nbconvert_exporter": "python",
   "pygments_lexer": "ipython3",
   "version": "3.9.12"
  },
  "vscode": {
   "interpreter": {
    "hash": "26de051ba29f2982a8de78e945f0abaf191376122a1563185a90213a26c5da77"
   }
  }
 },
 "nbformat": 4,
 "nbformat_minor": 2
}
