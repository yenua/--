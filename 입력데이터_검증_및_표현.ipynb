{
 "cells": [
  {
   "cell_type": "markdown",
   "metadata": {},
   "source": [
    "##### SQL 삽입 (p.15)"
   ]
  },
  {
   "cell_type": "markdown",
   "metadata": {},
   "source": [
    "1) DB-API 사용 예제"
   ]
  },
  {
   "cell_type": "code",
   "execution_count": null,
   "metadata": {},
   "outputs": [],
   "source": [
    "from django.shortcuts import render\n",
    "\n",
    "def update_board(request):\n",
    "    ...\n",
    "\twith dbconn.cursor() as curs:\n",
    "\t\tname = request.POST.get('name', '')\n",
    "\t\tcontent_id = request.POST.get('content_id', '')\n",
    "\t\t\n",
    "\t\t# 외부 입력값으로 부터 안전한 매개변수 화된 쿼리를 생성 한다.\n",
    "\t\tsql_query = 'update board set name=%s where content_id=%s'\n",
    "\t\t\n",
    "\t\t# 사용자의 입력 값을 매개변수 화된 쿼리에 바인딩 하여 실행되므로\n",
    "\t\t# 안전하다.\n",
    "\t\tcurs.execute(sql_query, (name, content_id))\n",
    "\t\tcurs.commit()\n",
    "\t\treturn render(request, '/success.html')"
   ]
  },
  {
   "cell_type": "markdown",
   "metadata": {},
   "source": [
    "2) ORM 사용 예제"
   ]
  },
  {
   "cell_type": "code",
   "execution_count": null,
   "metadata": {},
   "outputs": [],
   "source": [
    "from django.shortcuts import render\n",
    "from app.models import Member\n",
    "\n",
    "def member_search(request):\n",
    "    # 외부로부터 입력 값을 가져온다.\n",
    "    name = request.POST.get('name', '')\n",
    "\n",
    "    # 외부 입력 값을 raw()함수 실행 시 바인딩 변수로 사용하여 쿼리 구조가\n",
    "    # 변경되지 않도록 한다.(list 형은 %s, dictionary 형은 %(key)s를 사용)\n",
    "    query='select * from member where name=%s'\n",
    "    \n",
    "    # 인자화된 쿼리문을 사용하여 raw()함수를 사용하여 안전하다.\n",
    "    data = Member.objects.raw(query, [name])\n",
    "    return render(request, '/member_list.html', {'member_list':data})"
   ]
  },
  {
   "cell_type": "markdown",
   "metadata": {},
   "source": [
    "##### 코드삽입 (p.20)"
   ]
  },
  {
   "cell_type": "markdown",
   "metadata": {},
   "source": [
    "1) eval()함수 사용 예제"
   ]
  },
  {
   "cell_type": "code",
   "execution_count": null,
   "metadata": {},
   "outputs": [],
   "source": [
    "from django.shortcuts import render\n",
    "\n",
    "def route(request):\n",
    "    message = request.POST.get('message', '')\n",
    "    \n",
    "    # 사용자 입력을 영문, 숫자로 제한하는 예로. 특수문자가 포함되어\n",
    "    # 있을 경우 에러 메시지를 리턴 한다.\n",
    "    \n",
    "    if message.isalnum():\n",
    "        ret = eval(message)\n",
    "        return render(request, '/success.html', {'data':ret})\n",
    "    ......"
   ]
  },
  {
   "cell_type": "markdown",
   "metadata": {},
   "source": [
    "2) exec()함수 사용 예제"
   ]
  },
  {
   "cell_type": "code",
   "execution_count": null,
   "metadata": {},
   "outputs": [],
   "source": [
    "from django.shortcuts import render\n",
    "\n",
    "WHITE_LIST = ['get_friends_list', 'get_address', 'get_phone_number']\n",
    "\n",
    "def request_rest_api(request):\n",
    "    function_name = request.POST.get('function_name', '')\n",
    "\n",
    "    # 함수 명을 화이트리스트로 제한\n",
    "    if function_name in WHITE_LIST:\n",
    "        ret = exec('{}()'.format(function_name))\n",
    "        return render(request, '/success', {'data':ret})\n",
    "        \n",
    "    return render(request, '/error', {'error':'허용되지 않은 함수입니다.'})"
   ]
  },
  {
   "cell_type": "markdown",
   "metadata": {},
   "source": [
    "##### 경로 조작 및 자원 삽입 (p.24)"
   ]
  },
  {
   "cell_type": "markdown",
   "metadata": {},
   "source": [
    "1) 경로 조작 예제"
   ]
  },
  {
   "cell_type": "code",
   "execution_count": null,
   "metadata": {},
   "outputs": [],
   "source": [
    "import os\n",
    "from django.shortcuts import render\n",
    "\n",
    "def get_info(request):\n",
    "    # 외부 입력 값으로 받은 파일 이름은 검증하여 사용한다.\n",
    "    request_file = request.POST.get('request_file')\n",
    "\n",
    "    filename, file_ext = os.path.splitext(request_file)\n",
    "    file_ext = file_ext.lower()\n",
    "   \n",
    "    if file_ext not in ['.txt', '.csv']:\n",
    "        return render(request, '/error.html', {'error':'파일을 열수 없습니다.'})\n",
    "    \n",
    "    # 파일 명에서 경로 조작 문자열을 필터링 한다.\n",
    "    filename = filename.replace('.', '')\n",
    "    filename = filename.replace('/', '')\n",
    "    filename = filename.replace('\\\\', '')\n",
    "\n",
    "    with open(filename + file_ext) as f:\n",
    "        data = f.read()\n",
    "\n",
    "    return render(request, '/success.html', {'data':data})"
   ]
  },
  {
   "cell_type": "markdown",
   "metadata": {},
   "source": [
    "2) 자원 삽입 예제"
   ]
  },
  {
   "cell_type": "code",
   "execution_count": null,
   "metadata": {},
   "outputs": [],
   "source": [
    "import socket\n",
    "from django.shortcuts import render\n",
    "\n",
    "ALLOW_PORT = [4000, 6000, 9000]\n",
    "\n",
    "def get_info(request):\n",
    "    port = int(request.POST.get('port'))\n",
    "\n",
    "    # 사용 가능한 포트 번호를 화이트리스트로 제한\n",
    "    if port not in ALLOW_PORT:\n",
    "        return render(request, '/error', {'error':'소켓연결 실패'})\n",
    "   \n",
    "    with socket.socket(socket.AF_INET, socket.SOCK_STREAM) as s:\n",
    "        s.bind(('127.0.0.1', port))\n",
    "        ......\n",
    "    return render(request, '/success')"
   ]
  },
  {
   "cell_type": "markdown",
   "metadata": {},
   "source": [
    "##### 크로스사이트 스크립트(XSS) (p.29)"
   ]
  },
  {
   "cell_type": "markdown",
   "metadata": {},
   "source": [
    "1) Django 예제"
   ]
  },
  {
   "cell_type": "code",
   "execution_count": null,
   "metadata": {},
   "outputs": [],
   "source": [
    "from django.shortcuts import render\n",
    "from django.utils.safestring import mark_safe\n",
    "\n",
    "def profile_link(request):\n",
    "    # 외부 입력값을 검증 없이 HTML 태그 생성의 인자로 사용\n",
    "    profile_url = request.POST.get('profile_url')\n",
    "    profile_name = requst.POST.get('profile_name')\n",
    "    \n",
    "    object_link = '<a href=\"{}\">{}</a>'.format(profile_url, profile_name)\n",
    "    # 신뢰 할 수 없는 데이터에 대해서는 mark_safe 함수를 사용하지 않는다\n",
    "\n",
    "    return render(request, 'my_profile.html',{'object_link':object_link})"
   ]
  },
  {
   "cell_type": "code",
   "execution_count": null,
   "metadata": {},
   "outputs": [],
   "source": [
    "<!doctype html>\n",
    "<html>\n",
    "    <body>\n",
    "        <div class=\"content\">\n",
    "            {% autoescape on %}\n",
    "                // autoescape on로 해당 블록내의 데이터는 XSS 공격에\n",
    "                {{ content }}\n",
    "            {% endautoescape %}\n",
    "        </div>\n",
    "        <div class=\"content2\">\n",
    "            //검증되지 않은 데이터에는 safe 필터를 사용하지 않는다.\n",
    "            {{ content}}\n",
    "        </div>\n",
    "    </body>\n",
    "</html>"
   ]
  },
  {
   "cell_type": "markdown",
   "metadata": {},
   "source": [
    "2) Flak 예제"
   ]
  },
  {
   "cell_type": "code",
   "execution_count": null,
   "metadata": {},
   "outputs": [],
   "source": [
    "import html\n",
    "from flask import Flask, request, render_template\n",
    "\n",
    "@app.route('/search', methods=['POST'])\n",
    "def search():\n",
    "    search_keyword = request.form.get('search_keyword')\n",
    "    \n",
    "    # 동적 웹 페이지 생성에 사용되는 데이터는\n",
    "    # HTML 엔티티코드로 치환하여 표현해야한다\n",
    "    escape_keyword = html.escape(search_keyword)\n",
    "    return render_template('search.html', search_keyword=escape_keyword)"
   ]
  },
  {
   "cell_type": "markdown",
   "metadata": {},
   "source": [
    "##### 운영체제 명령어 삽입 (p.34)"
   ]
  },
  {
   "cell_type": "code",
   "execution_count": null,
   "metadata": {},
   "outputs": [],
   "source": [
    "import os\n",
    "from django.shortcuts import render\n",
    "\n",
    "ALLOW_PROGRAM = ['notepad', 'calc']\n",
    "\n",
    "def execute_command(request):\n",
    "    app_name_string = request.POST.get('app_name','')\n",
    "\n",
    "    # 입력받은 파라미터를 사용가능한 시스템 명령어 일부로 제한하여 사용\n",
    "    if app_name_string not in ALLOW_PROGRAM:\n",
    "        return render(request, '/error.html', {'ERROR':'허용되지 않은 프로그램입니다.'})\n",
    "   \n",
    "    os.system(app_name_string)\n",
    "    return render(request, '/success.html')"
   ]
  },
  {
   "cell_type": "code",
   "execution_count": null,
   "metadata": {},
   "outputs": [],
   "source": [
    "import subprocess\n",
    "from django.shortcuts import render\n",
    "\n",
    "def execute_command(request):\n",
    "    date = request.POST.get('date','')\n",
    "\n",
    "    # 명령어를 추가로 실행 또는 다른 명령이 실행될 수 있는 키워드에\n",
    "    # 대한 예외처리\n",
    "    for word in ['|', ';', '&', ':', '>', '<', '`', '\\\\', '!']:\n",
    "        date = date.replace(word, \"\")\n",
    "\n",
    "    # shell=True 옵션은 제거 하고 명령과 인자를 배열로 입력\n",
    "    subprocess.run([\"cmd\", \"/c\", \"backuplog.bat\", date])\n",
    "    return render(request, '/success.html')"
   ]
  },
  {
   "cell_type": "markdown",
   "metadata": {},
   "source": [
    "##### 위험한 형식 파일 업로드 (p.38)"
   ]
  },
  {
   "cell_type": "code",
   "execution_count": null,
   "metadata": {},
   "outputs": [],
   "source": [
    "import os\n",
    "from django.shortcuts import render\n",
    "from django.core.files.storage import FileSystemStorage\n",
    "\n",
    "# 업로드 하는 파일에 대한 개수, 크기, 확장자 제한\n",
    "FILE_COUNT_LIMIT = 5\n",
    "# 업로드 하는 파일의 최대 사이즈 제한 예 ) 5MB - 5*1024*1024\n",
    "FILE_SIZE_LIMIT = 5242880\n",
    "# 허용하는 확장자는 화이트리스트로 관리한다.\n",
    "WHITE_LIST_EXT = [\n",
    "    '.jpg',\n",
    "    '.jpeg'\n",
    "]\n",
    "\n",
    "def file_upload(request):\n",
    "    # 파일 개수 제한\n",
    "    if len(request.FILES) == 0 or len(request.FILES) > FILE_COUNT_LIMIT:\n",
    "        return render(request, '/error.html', {'error': '파일 개수 초과'})\n",
    "    \n",
    "    for filename, upload_file in request.FILES.items():\n",
    "        # 파일 타입 체크\n",
    "        if upload_file.content_type != 'image/jpeg':\n",
    "            return render(request, '/error.html', {'error': '파일 타입 오류'})\n",
    "        # 파일 크기 제한\n",
    "        if upload_file.size > FILE_SIZE_LIMIT:\n",
    "            return render(request, '/error.html', {'error': '파일사이즈 오류'})\n",
    "        # 파일 확장자 검사\n",
    "        file_name, file_ext = os.path.splitext(upload_file.name)\n",
    "        if file_ext.lower() not in WHITE_LIST_EXT:\n",
    "            return render(request, '/error.html', {'error': '파일 타입 오류'})\n",
    "        \n",
    "    fs = FileSystemStorage(location='media/screenshot', base_url = 'media/screenshot')\n",
    "    for upload_file in request.FILES.values():\n",
    "        fs.save(upload_file.name, upload_file)\n",
    "        \n",
    "    return render(request, '/success.html', {'filename': filename})"
   ]
  },
  {
   "cell_type": "markdown",
   "metadata": {},
   "source": [
    "##### 신뢰되지 않은 URL주소로 자동접속 연결 (p.41)"
   ]
  },
  {
   "cell_type": "code",
   "execution_count": null,
   "metadata": {},
   "outputs": [],
   "source": [
    "from django.shortcuts import redirect\n",
    "\n",
    "ALLOW_URL_LIST = [\n",
    "    '127.0.0.1',\n",
    "    '192.168.0.1',\n",
    "    '192.168.0.100',\n",
    "    'https://login.myservice.com',\n",
    "    '/notice'\n",
    "]\n",
    "\n",
    "def redirect_url(request):\n",
    "    url_string = request.POST.get('url', '')\n",
    "\n",
    "    # 이동할 수 있는 URL 범위를 제한하여\n",
    "    # 위험한 사이트의 접근을 차단하고 있다\n",
    "    if url_string not in ALLOW_URL_LIST:\n",
    "        return render(request, '/error.html', {'ERROR':'허용되지 않는 주소입니다.'})\n",
    "    \n",
    "    return redirect(url_string)"
   ]
  },
  {
   "cell_type": "markdown",
   "metadata": {},
   "source": [
    "##### 부적절한 XML 외부 개체 참조 (p.44)"
   ]
  },
  {
   "cell_type": "code",
   "execution_count": null,
   "metadata": {},
   "outputs": [],
   "source": [
    "from xml.sax import make_parser\n",
    "from xml.sax.handler import feature_external_ges\n",
    "from xml.dom.pulldom import parseString, START_ELEMENT\n",
    "from django.shortcuts import render\n",
    "from .model import comments\n",
    "\n",
    "def get_xml(request):\n",
    "    if request.method == \"GET\":\n",
    "        data = comments.objects.all()\n",
    "        com = data[0].comment\n",
    "        return render(request, '/xml_view.html', {'com':com})\n",
    "    \n",
    "    elif request.method == \"POST\":\n",
    "        parser = make_parser()\n",
    "        parser.setFeature(feature_external_ges, False)\n",
    "        doc = parseString(request.body.decode(‘utf-8’), parser=parser)\n",
    "        for event, node in doc:\n",
    "            if event == START_ELEMENT and node.tagName == “foo”:\n",
    "                doc.expandNode(node)\n",
    "                text = node.toxml()\n",
    "        comments.objects.filter(id=1).update(comment=text);\n",
    "        return render(request, '/xml_view.html')"
   ]
  },
  {
   "cell_type": "markdown",
   "metadata": {},
   "source": [
    "##### XML 삽입 (p.46)"
   ]
  },
  {
   "cell_type": "code",
   "execution_count": null,
   "metadata": {},
   "outputs": [],
   "source": [
    "from lxml import etree\n",
    "\n",
    "def parse_xml(request):\n",
    "    user_name = request.POST.get('user_name', '')\n",
    "\n",
    "    parser = etree.XMLParser(resolve_entities=False)\n",
    "    tree = etree.parse('user.xml', parser)\n",
    "    root = tree.getroot()\n",
    "    \n",
    "    query = '/collection/users/user[@name = $paramname]/home/text()'\n",
    "    #외부 입력값을 paramname으로 매개변수화 해서 사용\n",
    "    elmts = root.xpath(query, paramname=user_name)\n",
    "    return render(request, 'parse_xml.html', {'xml_element':elmts})"
   ]
  },
  {
   "cell_type": "markdown",
   "metadata": {},
   "source": [
    "##### LDAP 삽입 (p.49)"
   ]
  },
  {
   "cell_type": "code",
   "execution_count": null,
   "metadata": {},
   "outputs": [],
   "source": [
    "from ldap3 import Connection, Server, ALL\n",
    "from ldap3.utils.conv import escape_filter_chars\n",
    "from django.shortcuts import render\n",
    "\n",
    "def ldap_query(request):\n",
    "    search_keyword = request.POST.get('search_keyword','')\n",
    "\n",
    "    dn = server.config['bind_dn']\n",
    "    password = server.config['password']\n",
    "\n",
    "    address = 'ldap.goodsource.com'\n",
    "    server = Server(address, get_info=ALL)\n",
    "    conn = Connection(server, dn, password, auto_bind=True )\n",
    "    \n",
    "    # 사용자의 입력에 필터링을 적용하여 공격에 사용될 수 있는 문자를\n",
    "    # 이스케이프하고 있다\n",
    "    escpae_keyword = escape_filter_chars(search_keyword)\n",
    "    search_str = '(&(objectclass=%s))' % escpae_keyword\n",
    "\n",
    "    conn.search('dc=company,dc=com', search_str, attributes=['sn', 'cn', 'address', 'mail', 'mobile', 'uid'])\n",
    "    return render(request, '/ldap_query_response.html', {'ldap':conn.entries})"
   ]
  },
  {
   "cell_type": "markdown",
   "metadata": {},
   "source": [
    "#####  크로스사이트 요청 위조(CSRF) (p.52)"
   ]
  },
  {
   "cell_type": "markdown",
   "metadata": {},
   "source": [
    "1. Django 프레임워크 사용 - 미들웨어 설정(settings.py) 사례"
   ]
  },
  {
   "cell_type": "code",
   "execution_count": null,
   "metadata": {},
   "outputs": [],
   "source": [
    "MIDDLEWARE = [\n",
    "    'django.contrib.sessions.middleware.SessionMiddleware',\n",
    "    # MIDDLEWARE 목록에서 csrf 항목을 활성화 한다.\n",
    "    'django.middleware.csrf.CsrfViewMiddleware',\n",
    "    'django.contrib.auth.middleware.AuthenticationMiddleware',\n",
    "    'django.contrib.messages.middleware.MessageMiddleware',\n",
    "    'django.middleware.locale.LocaleMiddleware',\n",
    "    ......\n",
    "]"
   ]
  },
  {
   "cell_type": "markdown",
   "metadata": {},
   "source": [
    "2. Django 프레임워크 사용 - 뷰 기능 설정(views.py) 사례"
   ]
  },
  {
   "cell_type": "code",
   "execution_count": null,
   "metadata": {},
   "outputs": [],
   "source": [
    "from django.shortcuts import render\n",
    "from django.views.decorators.csrf import csrf_exempt\n",
    "\n",
    "# csrf_exempt 데코레이터를 삭제하거나 주석처리한다.\n",
    "# @csrf_exempt\n",
    "def pay_to_point(request):\n",
    "    user_id = request.POST.get('user_id', '')\n",
    "    pay = request.POST.get('pay', '')\n",
    "    product_info = request.POST.get('product_info', '')\n",
    "    \n",
    "    ret = pay(user_id, pay, product_info)\n",
    "    \n",
    "    return render(request, '/view_wallet.html', {'wallet':ret})"
   ]
  },
  {
   "cell_type": "markdown",
   "metadata": {},
   "source": [
    "3. Django 프레임워크 사용 - 템플릿 설정 사례"
   ]
  },
  {
   "cell_type": "code",
   "execution_count": null,
   "metadata": {},
   "outputs": [],
   "source": [
    "<!--html page-->\n",
    "<form action=\"\" method=\"POST\">\n",
    "    {% csrf_token %} <!--csrf_token 사용->\n",
    "    <table>\n",
    "        {{form.as_table}}\n",
    "    </table>\n",
    "    <input type=\"submit\"/>\n",
    "</form>"
   ]
  },
  {
   "cell_type": "markdown",
   "metadata": {},
   "source": [
    "4. Flask 프레임워크 사용 - app 설정 사례"
   ]
  },
  {
   "cell_type": "code",
   "execution_count": null,
   "metadata": {},
   "outputs": [],
   "source": [
    "from flask import Flask\n",
    "from flask_wtf.csrf import CSRFProtect\n",
    "\n",
    "# CSRF 설정 추가\n",
    "csrf = CSRFProtect(app)\n",
    "app = Flask(__name__)\n",
    "app.config[‘SECRET_KEY’] = os.environ.get('SECRET_KEY')\n",
    "csrf.init_app(app)"
   ]
  },
  {
   "cell_type": "markdown",
   "metadata": {},
   "source": [
    "5. Flask 프레임워크 사용 - 템플릿 설정 사례"
   ]
  },
  {
   "cell_type": "code",
   "execution_count": null,
   "metadata": {},
   "outputs": [],
   "source": [
    "<form action=\"\" method=\"POST\">\n",
    "    <!-- form 태그 내부에 csrf_token 적용-->\n",
    "    <input type=\"hidden\" name=\"csrf_token\" value=\"{{ csrf_token }}\" />\n",
    "    <table>\n",
    "        {{table}}\n",
    "    </table>\n",
    "    <input type=\"submit\"/>\n",
    "</form>"
   ]
  },
  {
   "cell_type": "markdown",
   "metadata": {},
   "source": [
    "##### 서버사이드 요청 위조 (p.58)"
   ]
  },
  {
   "cell_type": "code",
   "execution_count": null,
   "metadata": {},
   "outputs": [],
   "source": [
    "from django.shortcuts import render\n",
    "import requests\n",
    "\n",
    "# 도메인을 화이트리스트에 정의 할 경우 DNS rebinding 공격 등에\n",
    "# 노출될 위험이 있어 신뢰 할 수 있는 자원에 대한 IP를 사용하여\n",
    "# 검증하는 것이 좀더 안전하다.\n",
    "ALLOW_SERVER_LIST = [\n",
    "    'https://127.0.0.1/latest/',\n",
    "    'https://192.168.0.1/user_data',\n",
    "    'https://192.168.0.100/v1/public'\n",
    "]\n",
    "\n",
    "def call_third_party_api(request):\n",
    "    addr = request.POST.get('address', '')\n",
    "\n",
    "    # 사용자가 입력한 URL을 화이트리스트로 검증한 후 그 결과를 반환하여\n",
    "    # 검증되지 않은 주소로 요청을 보내지 않도록 제한한다.\n",
    "    if addr not in ALLOW_SERVER_LIST:\n",
    "        return render(request, '/error.html', {error = '허용되지 않은 서버입니다.'})\n",
    "    \n",
    "    result = requests.get(addr).text\n",
    "    return render(request, '/result.html', {'result':result})"
   ]
  },
  {
   "cell_type": "markdown",
   "metadata": {},
   "source": [
    "##### HTTP 응답분할 (p.61)"
   ]
  },
  {
   "cell_type": "code",
   "execution_count": null,
   "metadata": {},
   "outputs": [],
   "source": [
    "from django.http import HttpResponse\n",
    "\n",
    "def route(request):\n",
    "    content_type = request.POST.get('contnet-type')\n",
    "    \n",
    "    # 응답헤더에 포함될 수 있는 외부 입력값에 대해 개행문자를 제거한다.\n",
    "    content_type = content_type.replace('\\r', '')\n",
    "    content_type = content_type.replace('\\n', '')\n",
    "    ......\n",
    "    res = HttpResponse()\n",
    "    res['Content-Type'] = content_type\n",
    "    return res"
   ]
  },
  {
   "cell_type": "markdown",
   "metadata": {},
   "source": [
    "##### 보안기능 결정에 사용되는 부적절한 입력값 (p.63)"
   ]
  },
  {
   "cell_type": "code",
   "execution_count": null,
   "metadata": {},
   "outputs": [],
   "source": [
    "from django.shortcuts import render\n",
    "\n",
    "def init_password(request):\n",
    "    # 세션에서 권한 정보를 가져옴\n",
    "    roll = request.session['roll']\n",
    "    request_id = request.POST.get('user_id', '')\n",
    "    request_mail = request.POST.get('user_email','')\n",
    "    # 세션에서 가져온 권한이 관리자인지 비교\n",
    "    if roll == 'admin':\n",
    "        # 사용자의 패스워드 초기화 및 메일 발송 처리\n",
    "        password_init_and_sendmail(request_id, request_mail)\n",
    "        return render(request, '/sucess.html')\n",
    "    else:\n",
    "        return render(request, '/failed.html')"
   ]
  },
  {
   "cell_type": "markdown",
   "metadata": {},
   "source": [
    "##### 포맷 스트링 삽입 (p.66)"
   ]
  },
  {
   "cell_type": "code",
   "execution_count": null,
   "metadata": {},
   "outputs": [],
   "source": [
    "from django.shortcuts import render\n",
    "AUTHENTICATE_KEY = 'Passw0rd'\n",
    "\n",
    "def make_user_message(request):\n",
    "    user_info = get_user_info(request.POST.get('user_id', ''))\n",
    "    \n",
    "    # 사용자가 입력한 문자열을 포맷 문자열로 사용하지 않아 안전하다\n",
    "    message = 'user name is {}'.format(user_info.name)\n",
    "    \n",
    "    return render(request, '/user_page', {'message':message})"
   ]
  }
 ],
 "metadata": {
  "kernelspec": {
   "display_name": "Python 3 (ipykernel)",
   "language": "python",
   "name": "python3"
  },
  "language_info": {
   "codemirror_mode": {
    "name": "ipython",
    "version": 3
   },
   "file_extension": ".py",
   "mimetype": "text/x-python",
   "name": "python",
   "nbconvert_exporter": "python",
   "pygments_lexer": "ipython3",
   "version": "3.10.2"
  },
  "vscode": {
   "interpreter": {
    "hash": "26de051ba29f2982a8de78e945f0abaf191376122a1563185a90213a26c5da77"
   }
  }
 },
 "nbformat": 4,
 "nbformat_minor": 2
}
