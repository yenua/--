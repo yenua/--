{
 "cells": [
  {
   "cell_type": "markdown",
   "metadata": {},
   "source": [
    "##### Null Pointer 역참조 (p.120)"
   ]
  },
  {
   "cell_type": "code",
   "execution_count": null,
   "metadata": {},
   "outputs": [],
   "source": [
    "from django.shortcuts import render\n",
    "from xml.sax import make_parser, handler\n",
    "import os\n",
    "\n",
    "def parse_xml(request):\n",
    "    filename = request.POST.get('filename')\n",
    "    # filename이 None 인지 체크\n",
    "    if filename is None or filename.strip() == \"\":\n",
    "        raise ValueError(\"파일 이름이 없습니다.\")\n",
    "\n",
    "    if (filename.count('.') > 0):\n",
    "        name, ext = os.path.splitext(filename)\n",
    "    else:\n",
    "        ext = ''\n",
    "        \n",
    "    if ext == '.xml':\n",
    "        parser = make_parser()\n",
    "        ......\n",
    "        sax_handler = Handler()\n",
    "        parser.setContentHandler(sax_handler)\n",
    "        parser.parse(filename)\n",
    "        return sax_handler.root"
   ]
  },
  {
   "cell_type": "markdown",
   "metadata": {},
   "source": [
    "##### 부적절한 자원 해제 (p.123)"
   ]
  },
  {
   "cell_type": "code",
   "execution_count": null,
   "metadata": {},
   "outputs": [],
   "source": [
    "import sys\n",
    "def get_config():\n",
    "    lines = None\n",
    "    try:\n",
    "        f = open('config.cfg')\n",
    "        lines = f.readlines()\n",
    "    except Exception as e:\n",
    "        ...\n",
    "    finally:\n",
    "        # try 절에서 할당한 자원은\n",
    "        # finally절에서 시스템에 반환을 해 주어야 한다\n",
    "        f.close()\n",
    "        return lines"
   ]
  },
  {
   "cell_type": "code",
   "execution_count": null,
   "metadata": {},
   "outputs": [],
   "source": [
    "# with 절을 빠져나갈 때 f를 시스템에 반환\n",
    "with open('filename.py') as f:\n",
    "\tprint(f.read())"
   ]
  },
  {
   "cell_type": "markdown",
   "metadata": {},
   "source": [
    "##### 신뢰할 수 없는 데이터의 역직렬화 (p.126)"
   ]
  },
  {
   "cell_type": "code",
   "execution_count": null,
   "metadata": {},
   "outputs": [],
   "source": [
    "import hmac\n",
    "import hashlib\n",
    "import pickle\n",
    "from django.shortcuts import render\n",
    "\n",
    "def load_user_object(request):\n",
    "    hash_pickle = bytes(request.POST.get('hash_pickle', ''), encoding = \"utf-8\")\n",
    "    userinfo = bytes(request.POST.get('userinfo', ''), encoding = \"utf-8\")\n",
    "    # HMAC 검증을 위한 비밀키는 안전하게 저장하여 사용\n",
    "    m = hmac.new(key=b’secret_key’, digestmod=hashlib.sha512)\n",
    "    m.update(userinfo)\n",
    "    # 전달받은 해시값(hash_pickle)과 직렬화 데이터(userinfo)의\n",
    "    # 해시값을 비교하여 검증\n",
    "    if hmac.compare_digest(m.digest(), hash_pickle):\n",
    "        user_obj = pickle.loads(userinfo_pickle)\n",
    "        return render(request, '/load_user_obj.html', {'obj':user_obj})\n",
    "    else:\n",
    "        return render(request, '/error.html', {'error':'직렬화 오류입니다.'})"
   ]
  }
 ],
 "metadata": {
  "kernelspec": {
   "display_name": "Python 3 (ipykernel)",
   "language": "python",
   "name": "python3"
  },
  "language_info": {
   "codemirror_mode": {
    "name": "ipython",
    "version": 3
   },
   "file_extension": ".py",
   "mimetype": "text/x-python",
   "name": "python",
   "nbconvert_exporter": "python",
   "pygments_lexer": "ipython3",
   "version": "3.10.2"
  },
  "vscode": {
   "interpreter": {
    "hash": "26de051ba29f2982a8de78e945f0abaf191376122a1563185a90213a26c5da77"
   }
  }
 },
 "nbformat": 4,
 "nbformat_minor": 2
}
