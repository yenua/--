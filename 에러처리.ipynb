{
 "cells": [
  {
   "cell_type": "markdown",
   "metadata": {},
   "source": [
    "##### 오류 메시지 정보노출 (p.111)"
   ]
  },
  {
   "cell_type": "markdown",
   "metadata": {},
   "source": [
    "1) Django DEBUG 모드"
   ]
  },
  {
   "cell_type": "code",
   "execution_count": null,
   "metadata": {},
   "outputs": [],
   "source": [
    "#config/urls.py\n",
    "from django.conf.urls import handler400, handler403, handler404, handler500\n",
    "\n",
    "# 사용자 정의 에러페이지를 지정하고\n",
    "# views.py에 사용자 정의 에러페이지에 대한 코드를 구현하여 사용한다.\n",
    "handler400 = \"blog.views.error400\"\n",
    "handler403 = \"blog.views.error403\"\n",
    "handler404 = \"blog.views.error404\"\n",
    "handler500 = \"blog.views.error500\""
   ]
  },
  {
   "cell_type": "markdown",
   "metadata": {},
   "source": [
    "2) traceback 에러 스택 출력"
   ]
  },
  {
   "cell_type": "code",
   "execution_count": null,
   "metadata": {},
   "outputs": [],
   "source": [
    "import traceback\n",
    "\n",
    "def fetch_url(url, useragent, referer=None, retries=1, dimension=False):\n",
    "    ......\n",
    "    try:\n",
    "        response = requests.get(url, stream=True, timeout=5, headers={\n",
    "        'User-Agent': useragent,\n",
    "        'Referer': referer,\n",
    "        })\n",
    "        ......\n",
    "    except IOError:\n",
    "        # 에러 코드와 정보를 별도로 정의하고 최소 정보만 로깅\n",
    "        logger.info('ERROR-01:통신에러')\n",
    "        break"
   ]
  },
  {
   "cell_type": "markdown",
   "metadata": {},
   "source": [
    "##### 오류상황 대응 부재 (p.115)"
   ]
  },
  {
   "cell_type": "code",
   "execution_count": null,
   "metadata": {},
   "outputs": [],
   "source": [
    "import os\n",
    "import binascii\n",
    "import base64\n",
    "from Crypto.Cipher import AES\n",
    "\n",
    "static_keys=[\n",
    "    {'key' : b'\\xb9J\\xfd\\xa9\\xd2\\xefD\\x0b\\x7f\\xb2\\xbcy\\x9c\\xf7\\x9c',\n",
    "    ‘iv' : b'\\xf1BZ\\x06\\x03TP\\xd1\\x8a\\xad\"\\xdc\\xc3\\x08\\x88\\xda'},\n",
    "    {'key' : b'Z\\x01$.:\\xd4u3~\\xb6TS(\\x08\\xcc\\xfc',\n",
    "    'iv' : b'\\xa1a=:\\xba\\xfczv]\\xca\\x83\\x9485\\x14\\x17'},\n",
    "]\n",
    "def encryption(key_id, plain_text):\n",
    "    static_key = {'key':b'0000000000000000', 'iv':b'0000000000000000'}\n",
    "     \n",
    "    try:\n",
    "        static_key = static_keys[key_id]\n",
    "    except IndexError:\n",
    "        # key 선택 중 오류 발생 시 랜덤으로 암호화 키를 생성하도록 설정\n",
    "        static_key = {'key': secrets.token_bytes(16), 'iv': secrets.token_bytes(16)}\n",
    "        static_keys.append(static_key)\n",
    "        \n",
    "    cipher_aes = AES.new(static_key['key'],AES.MODE_CBC,static_key['iv'])\n",
    "    encrypted_data = base64.b64encode(cipher_aes.encrypt(plain_text))\n",
    "    return encrypted_data.decode('ASCII')"
   ]
  },
  {
   "cell_type": "markdown",
   "metadata": {},
   "source": [
    "##### 부적절한 예외 처리 (p.117)"
   ]
  },
  {
   "cell_type": "code",
   "execution_count": null,
   "metadata": {},
   "outputs": [],
   "source": [
    "import sys\n",
    "\n",
    "def get_content():\n",
    "    try:\n",
    "        f = open('myfile.txt')\n",
    "        s = f.readline()\n",
    "        i = int(s.strip())\n",
    "    # 발생할 수 있는 오류의 종류와 순서에 맞춰서 예외 처리 한다.\n",
    "    except FileNotFoundError:\n",
    "        print(\"file is not found\")\n",
    "    except OSError:\n",
    "        print(\"cannot open file\")\n",
    "    except ValueError:\n",
    "        print(\"Could not convert data to an integer.\")"
   ]
  }
 ],
 "metadata": {
  "kernelspec": {
   "display_name": "Python 3 (ipykernel)",
   "language": "python",
   "name": "python3"
  },
  "language_info": {
   "codemirror_mode": {
    "name": "ipython",
    "version": 3
   },
   "file_extension": ".py",
   "mimetype": "text/x-python",
   "name": "python",
   "nbconvert_exporter": "python",
   "pygments_lexer": "ipython3",
   "version": "3.10.2"
  },
  "vscode": {
   "interpreter": {
    "hash": "26de051ba29f2982a8de78e945f0abaf191376122a1563185a90213a26c5da77"
   }
  }
 },
 "nbformat": 4,
 "nbformat_minor": 2
}
